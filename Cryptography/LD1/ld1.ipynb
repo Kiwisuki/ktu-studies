{
 "cells": [
  {
   "cell_type": "code",
   "execution_count": 1,
   "id": "9a0de337",
   "metadata": {},
   "outputs": [
    {
     "data": {
      "text/plain": [
       "'Private-Key: (32 bit)\\nmodulus: 3938848957 (0xeac610bd)\\npublicExponent: 65537 (0x10001)\\nprivateExponent: 1618472313 (0x6077ed79)\\nprime1: 65063 (0xfe27)\\nprime2: 60539 (0xec7b)\\nexponent1: 55063 (0xd717)\\nexponent2: 49421 (0xc10d)\\ncoefficient: 61597 (0xf09d)'"
      ]
     },
     "execution_count": 1,
     "metadata": {},
     "output_type": "execute_result"
    }
   ],
   "source": [
    "\"\"\"Private-Key: (32 bit)\n",
    "modulus: 3938848957 (0xeac610bd)\n",
    "publicExponent: 65537 (0x10001)\n",
    "privateExponent: 1618472313 (0x6077ed79)\n",
    "prime1: 65063 (0xfe27)\n",
    "prime2: 60539 (0xec7b)\n",
    "exponent1: 55063 (0xd717)\n",
    "exponent2: 49421 (0xc10d)\n",
    "coefficient: 61597 (0xf09d)\"\"\""
   ]
  },
  {
   "cell_type": "code",
   "execution_count": 2,
   "id": "83ed7827",
   "metadata": {},
   "outputs": [],
   "source": [
    "modulus = 3938848957\n",
    "publicExponent = 65537\n",
    "privateExponent = 1618472313\n",
    "prime1 = 65063\n",
    "prime2 = 60539\n",
    "exponent1 = 55063\n",
    "exponent2 = 49421\n",
    "coefficient = 61597"
   ]
  },
  {
   "cell_type": "code",
   "execution_count": 3,
   "id": "e133fa2c",
   "metadata": {},
   "outputs": [
    {
     "data": {
      "text/plain": [
       "True"
      ]
     },
     "execution_count": 3,
     "metadata": {},
     "output_type": "execute_result"
    }
   ],
   "source": [
    "prime1 * prime2 == modulus"
   ]
  },
  {
   "cell_type": "code",
   "execution_count": 4,
   "id": "5c470b9b",
   "metadata": {},
   "outputs": [
    {
     "data": {
      "text/plain": [
       "3938723356"
      ]
     },
     "execution_count": 4,
     "metadata": {},
     "output_type": "execute_result"
    }
   ],
   "source": [
    "fi = (prime1-1) * (prime2-1) \n",
    "fi"
   ]
  },
  {
   "cell_type": "code",
   "execution_count": 5,
   "id": "d1c30d40",
   "metadata": {},
   "outputs": [],
   "source": [
    "import math"
   ]
  },
  {
   "cell_type": "code",
   "execution_count": 6,
   "id": "be07589e",
   "metadata": {},
   "outputs": [
    {
     "data": {
      "text/plain": [
       "True"
      ]
     },
     "execution_count": 6,
     "metadata": {},
     "output_type": "execute_result"
    }
   ],
   "source": [
    "math.gcd(fi , publicExponent) == 1"
   ]
  },
  {
   "cell_type": "code",
   "execution_count": 7,
   "id": "a2ed1026",
   "metadata": {},
   "outputs": [
    {
     "data": {
      "text/plain": [
       "True"
      ]
     },
     "execution_count": 7,
     "metadata": {},
     "output_type": "execute_result"
    }
   ],
   "source": [
    "publicExponent * privateExponent % fi == 1"
   ]
  },
  {
   "cell_type": "code",
   "execution_count": 9,
   "id": "fe230762",
   "metadata": {},
   "outputs": [
    {
     "data": {
      "text/plain": [
       "True"
      ]
     },
     "execution_count": 9,
     "metadata": {},
     "output_type": "execute_result"
    }
   ],
   "source": [
    "math.gcd(fi , coefficient) == 1"
   ]
  },
  {
   "cell_type": "code",
   "execution_count": null,
   "id": "fb66de85",
   "metadata": {},
   "outputs": [],
   "source": [
    "from cryptography import x509\n",
    "rom cryptography.hazmat.backends import default_backend\n",
    "cert = x509.load_pem_x509_certificate(pem_data, default_backend())\n",
    "cert.serial_number"
   ]
  }
 ],
 "metadata": {
  "kernelspec": {
   "display_name": "Python 3 (ipykernel)",
   "language": "python",
   "name": "python3"
  },
  "language_info": {
   "codemirror_mode": {
    "name": "ipython",
    "version": 3
   },
   "file_extension": ".py",
   "mimetype": "text/x-python",
   "name": "python",
   "nbconvert_exporter": "python",
   "pygments_lexer": "ipython3",
   "version": "3.9.12"
  }
 },
 "nbformat": 4,
 "nbformat_minor": 5
}
