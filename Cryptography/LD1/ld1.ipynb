{
 "cells": [
  {
   "cell_type": "code",
   "execution_count": 13,
   "id": "9a0de337",
   "metadata": {},
   "outputs": [
    {
     "data": {
      "text/plain": [
       "''"
      ]
     },
     "execution_count": 13,
     "metadata": {},
     "output_type": "execute_result"
    }
   ],
   "source": [
    "\"\"\"Private-Key: (32 bit)\n",
    "modulus: 3938848957 (0xeac610bd)\n",
    "publicExponent: 65537 (0x10001)\n",
    "privateExponent: 1618472313 (0x6077ed79)\n",
    "prime1: 65063 (0xfe27)\n",
    "prime2: 60539 (0xec7b)\n",
    "exponent1: 55063 (0xd717)\n",
    "exponent2: 49421 (0xc10d)\n",
    "coefficient: 61597 (0xf09d)\"\"\"\n",
    "''"
   ]
  },
  {
   "cell_type": "code",
   "execution_count": 2,
   "id": "990a0785",
   "metadata": {},
   "outputs": [
    {
     "data": {
      "text/plain": [
       "''"
      ]
     },
     "execution_count": 2,
     "metadata": {},
     "output_type": "execute_result"
    }
   ],
   "source": [
    "'''\n",
    "Private-Key: (32 bit)\n",
    "modulus: 3703726441 (0xdcc26169)\n",
    "publicExponent: 65537 (0x10001)\n",
    "privateExponent: 704869941 (0x2a037635)\n",
    "prime1: 62303 (0xf35f)\n",
    "prime2: 59447 (0xe837)\n",
    "exponent1: 47415 (0xb937)\n",
    "exponent2: 18719 (0x491f)\n",
    "coefficient: 41339 (0xa17b)'''\n",
    "''"
   ]
  },
  {
   "cell_type": "code",
   "execution_count": 12,
   "id": "83ed7827",
   "metadata": {},
   "outputs": [
    {
     "name": "stdout",
     "output_type": "stream",
     "text": [
      "prime1 * prime2 is equal to modulus: True\n",
      "fi is equal to: 3703604692\n",
      "fi and publicExponent are relatively prime: True\n",
      "publicExponent * privateExponent % fi yra lygus vienam: True\n",
      "fi and coefficient are relatively prime: True\n"
     ]
    }
   ],
   "source": [
    "import math\n",
    "\n",
    "modulus = 3938848957\n",
    "publicExponent = 65537\n",
    "privateExponent = 704869941\n",
    "prime1 = 62303\n",
    "prime2 = 59447\n",
    "exponent1 = 47415\n",
    "exponent2 = 18719\n",
    "coefficient = 41339\n",
    "\n",
    "fi = (prime1-1) * (prime2-1) \n",
    "\n",
    "print(f'prime1 * prime2 is equal to modulus: {prime1 * prime2 == modulus}')\n",
    "print(f'fi is equal to: {fi}')\n",
    "print(f'fi and publicExponent are relatively prime: {math.gcd(fi , publicExponent) == 1}')\n",
    "print(f'publicExponent * privateExponent % fi yra lygus vienam: {publicExponent * privateExponent % fi == 1}')\n",
    "print(f'fi and coefficient are relatively prime: {math.gcd(fi , coefficient) == 1}')"
   ]
  },
  {
   "cell_type": "code",
   "execution_count": 4,
   "id": "e133fa2c",
   "metadata": {},
   "outputs": [
    {
     "data": {
      "text/plain": [
       "True"
      ]
     },
     "execution_count": 4,
     "metadata": {},
     "output_type": "execute_result"
    }
   ],
   "source": [
    "prime1 * prime2 == modulus"
   ]
  },
  {
   "cell_type": "code",
   "execution_count": 5,
   "id": "5c470b9b",
   "metadata": {},
   "outputs": [
    {
     "data": {
      "text/plain": [
       "3703604692"
      ]
     },
     "execution_count": 5,
     "metadata": {},
     "output_type": "execute_result"
    }
   ],
   "source": [
    "fi = (prime1-1) * (prime2-1) \n",
    "fi"
   ]
  },
  {
   "cell_type": "code",
   "execution_count": 6,
   "id": "d1c30d40",
   "metadata": {},
   "outputs": [],
   "source": [
    "import math"
   ]
  },
  {
   "cell_type": "code",
   "execution_count": 7,
   "id": "be07589e",
   "metadata": {},
   "outputs": [
    {
     "data": {
      "text/plain": [
       "True"
      ]
     },
     "execution_count": 7,
     "metadata": {},
     "output_type": "execute_result"
    }
   ],
   "source": [
    "math.gcd(fi , publicExponent) == 1"
   ]
  },
  {
   "cell_type": "code",
   "execution_count": 8,
   "id": "a2ed1026",
   "metadata": {},
   "outputs": [
    {
     "data": {
      "text/plain": [
       "True"
      ]
     },
     "execution_count": 8,
     "metadata": {},
     "output_type": "execute_result"
    }
   ],
   "source": [
    "publicExponent * privateExponent % fi == 1"
   ]
  },
  {
   "cell_type": "code",
   "execution_count": 9,
   "id": "fe230762",
   "metadata": {},
   "outputs": [
    {
     "data": {
      "text/plain": [
       "True"
      ]
     },
     "execution_count": 9,
     "metadata": {},
     "output_type": "execute_result"
    }
   ],
   "source": [
    "math.gcd(fi , coefficient) == 1"
   ]
  },
  {
   "cell_type": "code",
   "execution_count": null,
   "id": "af30a94e",
   "metadata": {},
   "outputs": [],
   "source": []
  }
 ],
 "metadata": {
  "kernelspec": {
   "display_name": "Python 3 (ipykernel)",
   "language": "python",
   "name": "python3"
  },
  "language_info": {
   "codemirror_mode": {
    "name": "ipython",
    "version": 3
   },
   "file_extension": ".py",
   "mimetype": "text/x-python",
   "name": "python",
   "nbconvert_exporter": "python",
   "pygments_lexer": "ipython3",
   "version": "3.9.13"
  }
 },
 "nbformat": 4,
 "nbformat_minor": 5
}
