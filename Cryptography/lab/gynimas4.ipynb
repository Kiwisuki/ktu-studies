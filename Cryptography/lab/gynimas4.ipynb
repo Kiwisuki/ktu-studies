{
 "cells": [
  {
   "cell_type": "code",
   "execution_count": 2,
   "metadata": {},
   "outputs": [],
   "source": [
    "import pandas as pd\n",
    "import numpy as np\n",
    "import matplotlib.pyplot as plt\n",
    "import seaborn as sns"
   ]
  },
  {
   "cell_type": "code",
   "execution_count": 3,
   "metadata": {},
   "outputs": [],
   "source": [
    "cypher = \"\"\"d6g756b 6m 1vm6ibv1 g5 jnn5y 6gm amvtm g5 mvb1 jb1 tv7v64v zjlhvbgm y6gc jb j77vzgjdnv nv4vn 5o zt64j7l jm yvnn jm jbl 5gcvt o5th 5o h5bvl. c5yv4vt, d6g756b 6m b5g jb5blh5am jb1 7jbb5g 5oovt gcv mjhv nv4vn 5o zt64j7l jm 7jmc. gcv amv 5o d6g756b nvj4vm vsgvbm64v zadn67 tv75t1m. 4jt65am hv7cjb6mhm vs6mg g5 zt5gv7g amvtm' zt64j7l, jb1 h5tv jtv 6b 1v4vn5zhvbg. c5yv4vt, gcvtv 6m mg6nn y5tu g5 dv 15bv dvo5tv gcvmv ovjgatvm jtv amv1 75ttv7gnl dl h5mg d6g756b amvtm.\n",
    "m5hv 75b7vtbm cj4v dvvb tj6mv1 gcjg zt64jgv gtjbmj7g65bm 75an1 dv amv1 o5t 6nnvijn zatz5mvm y6gc d6g756b. c5yv4vt, 6g 6m y5tgc b5g6bi gcjg d6g756b y6nn ab15adgv1nl dv mad0v7gv1 g5 m6h6njt tvianjg65bm gcjg jtv jntvj1l 6b znj7v 6bm61v vs6mg6bi o6bjb76jn mlmgvhm. d6g756b 7jbb5g dv h5tv jb5blh5am gcjb 7jmc jb1 6g 6m b5g n6uvnl g5 ztv4vbg 7t6h6bjn 6b4vmg6ijg65bm ot5h dv6bi 75b1a7gv1. j116g65bjnnl, d6g756b 6m jnm5 1vm6ibv1 g5 ztv4vbg j njtiv tjbiv 5o o6bjb76jn 7t6hvm.\n",
    "\"\"\""
   ]
  },
  {
   "cell_type": "code",
   "execution_count": 4,
   "metadata": {},
   "outputs": [],
   "source": [
    "alphabet = \"abcdefghijklmnoprstuvwxyz0123456789\""
   ]
  },
  {
   "cell_type": "code",
   "execution_count": 5,
   "metadata": {},
   "outputs": [
    {
     "data": {
      "image/png": "[encoded data removed]",
      "text/plain": [
       "<Figure size 640x480 with 1 Axes>"
      ]
     },
     "metadata": {},
     "output_type": "display_data"
    }
   ],
   "source": [
    "# plot the frequency of each letter in the cypher\n",
    "all_freq = {}\n",
    "  \n",
    "for i in cypher:\n",
    "    if i == \" \":\n",
    "        continue\n",
    "    if i in all_freq:\n",
    "        all_freq[i] += 1\n",
    "    else:\n",
    "        all_freq[i] = 1\n",
    "#plot frequencies\n",
    "frequencies = pd.Series(all_freq)\n",
    "frequencies.plot(kind='bar')\n",
    "plt.show()"
   ]
  },
  {
   "cell_type": "code",
   "execution_count": 6,
   "metadata": {},
   "outputs": [
    {
     "data": {
      "text/plain": [
       "Index(['v', '6', 'g', '5', 'b', 'm', 'j', 't', '7', 'n'], dtype='object')"
      ]
     },
     "execution_count": 6,
     "metadata": {},
     "output_type": "execute_result"
    }
   ],
   "source": [
    "# get the most frequent 5 letters\n",
    "frequencies.sort_values(ascending=False).head(10).index"
   ]
  },
  {
   "cell_type": "code",
   "execution_count": 7,
   "metadata": {},
   "outputs": [],
   "source": [
    "map1 = {}\n",
    "i = 0\n",
    "for letter in alphabet:\n",
    "    map1[letter] = i\n",
    "    i += 1\n"
   ]
  },
  {
   "cell_type": "code",
   "execution_count": 8,
   "metadata": {},
   "outputs": [],
   "source": [
    "# Most popular letters: e, a, r, i, o, t, n, s\n",
    "# Most popular letters in cypher: v, 6, g, 5, b\n",
    "\n",
    "# Create most likely mapping pairs\n"
   ]
  },
  {
   "cell_type": "code",
   "execution_count": 9,
   "metadata": {},
   "outputs": [
    {
     "name": "stdout",
     "output_type": "stream",
     "text": [
      "32.25 31.0\n"
     ]
    }
   ],
   "source": [
    "# Most popular letters: e, a, r, i, o, t, n, s\n",
    "# Most popular letters in cypher: v, 6, g, 5, b\n",
    "#  e->v ; a->6\n",
    "# solve affine cypher\n",
    "\n",
    "\n",
    "# solve c_1 = a * t_1 + b (mod 35)\n",
    "# solve c_2 = a * t_2 + b (mod 35)\n",
    "\n",
    "c_1 = map1['v'] # place of v\n",
    "t_1 = map1['e'] # place of e\n",
    "\n",
    "c_2 = map1['6'] # place of 6\n",
    "t_2 = map1['a'] # place of a\n",
    "\n",
    "# solve for a and b\n",
    "a = (c_2 - c_1)*(t_2 - t_1)**-1 % 35\n",
    "b = (c_1 - a*t_1) % 35\n",
    "\n",
    "print(a ,b) # does not exist"
   ]
  },
  {
   "cell_type": "code",
   "execution_count": 10,
   "metadata": {},
   "outputs": [
    {
     "name": "stdout",
     "output_type": "stream",
     "text": [
      "3.5 6.0\n"
     ]
    }
   ],
   "source": [
    "# Most popular letters: e, a, r, i, o, t, n, s\n",
    "# Most popular letters in cypher: v, 6, g, 5, b\n",
    "#  e->v ; a->g\n",
    "# solve affine cypher\n",
    "\n",
    "\n",
    "# solve c_1 = a * t_1 + b (mod 35)\n",
    "# solve c_2 = a * t_2 + b (mod 35)\n",
    "\n",
    "c_1 = map1['v']\n",
    "t_1 = map1['e']\n",
    "\n",
    "c_2 = map1['g']\n",
    "t_2 = map1['a']\n",
    "\n",
    "# solve for a and b\n",
    "a = (c_2 - c_1)*(t_2 - t_1)**-1 % 35\n",
    "b = (c_1 - a*t_1) % 35\n",
    "\n",
    "print(a ,b) # does not exist"
   ]
  },
  {
   "cell_type": "code",
   "execution_count": 11,
   "metadata": {},
   "outputs": [
    {
     "name": "stdout",
     "output_type": "stream",
     "text": [
      "32.5 30.0\n"
     ]
    }
   ],
   "source": [
    "# Most popular letters: e, a, r, i, o, t, n, s\n",
    "# Most popular letters in cypher: v, 6, g, 5, b\n",
    "#  e->v ; a->5\n",
    "# solve affine cypher\n",
    "\n",
    "\n",
    "# solve c_1 = a * t_1 + b (mod 35)\n",
    "# solve c_2 = a * t_2 + b (mod 35)\n",
    "\n",
    "c_1 = map1['v']\n",
    "t_1 = map1['e']\n",
    "\n",
    "c_2 = map1['5']\n",
    "t_2 = map1['a']\n",
    "\n",
    "# solve for a and b\n",
    "a = (c_2 - c_1)*(t_2 - t_1)**-1 % 35\n",
    "b = (c_1 - a*t_1) % 35\n",
    "\n",
    "print(a ,b) # does not exist"
   ]
  },
  {
   "cell_type": "code",
   "execution_count": 12,
   "metadata": {},
   "outputs": [
    {
     "name": "stdout",
     "output_type": "stream",
     "text": [
      "4.75 1.0\n"
     ]
    }
   ],
   "source": [
    "# Most popular letters: e, a, r, i, o, t, n, s\n",
    "# Most popular letters in cypher: v, 6, g, 5, b\n",
    "#  e->v ; a->b\n",
    "# solve affine cypher\n",
    "\n",
    "\n",
    "# solve c_1 = a * t_1 + b (mod 35)\n",
    "# solve c_2 = a * t_2 + b (mod 35)\n",
    "\n",
    "c_1 = map1['v']\n",
    "t_1 = map1['e']\n",
    "\n",
    "c_2 = map1['b']\n",
    "t_2 = map1['a']\n",
    "\n",
    "# solve for a and b\n",
    "a = (c_2 - c_1)*(t_2 - t_1)**-1 % 35\n",
    "b = (c_1 - a*t_1) % 35\n",
    "\n",
    "print(a ,b) # does not exist"
   ]
  },
  {
   "cell_type": "code",
   "execution_count": 13,
   "metadata": {},
   "outputs": [
    {
     "name": "stdout",
     "output_type": "stream",
     "text": [
      "2.75 20.0\n"
     ]
    }
   ],
   "source": [
    "# Most popular letters: e, a, r, i, o, t, n, s\n",
    "# Most popular letters in cypher: v, 6, g, 5, b\n",
    "#  a->v ; e->6\n",
    "# solve affine cypher\n",
    "\n",
    "\n",
    "# solve c_1 = a * t_1 + b (mod 35)\n",
    "# solve c_2 = a * t_2 + b (mod 35)\n",
    "\n",
    "c_1 = map1['v']\n",
    "t_1 = map1['a']\n",
    "\n",
    "c_2 = map1['6']\n",
    "t_2 = map1['e']\n",
    "\n",
    "# solve for a and b\n",
    "a = (c_2 - c_1)*(t_2 - t_1)**-1 % 35\n",
    "b = (c_1 - a*t_1) % 35\n",
    "\n",
    "print(a ,b) # does not exist"
   ]
  },
  {
   "cell_type": "code",
   "execution_count": 14,
   "metadata": {},
   "outputs": [
    {
     "name": "stdout",
     "output_type": "stream",
     "text": [
      "0.6875 20.0\n"
     ]
    }
   ],
   "source": [
    "# Most popular letters: e, a, r, i, o, t, n, s\n",
    "# Most popular letters in cypher: v, 6, g, 5, b\n",
    "#  a->v ; r->6\n",
    "# solve affine cypher\n",
    "\n",
    "\n",
    "# solve c_1 = a * t_1 + b (mod 35)\n",
    "# solve c_2 = a * t_2 + b (mod 35)\n",
    "\n",
    "c_1 = map1['v']\n",
    "t_1 = map1['a']\n",
    "\n",
    "c_2 = map1['6']\n",
    "t_2 = map1['r']\n",
    "\n",
    "# solve for a and b\n",
    "a = (c_2 - c_1)*(t_2 - t_1)**-1 % 35\n",
    "b = (c_1 - a*t_1) % 35\n",
    "\n",
    "print(a ,b) # does not exist"
   ]
  },
  {
   "cell_type": "code",
   "execution_count": 15,
   "metadata": {},
   "outputs": [
    {
     "name": "stdout",
     "output_type": "stream",
     "text": [
      "0.9166666666666666 16.333333333333332\n"
     ]
    }
   ],
   "source": [
    "# Most popular letters: e, a, r, i, o, t, n, s\n",
    "# Most popular letters in cypher: v, 6, g, 5, b\n",
    "#  e->v ; r->6\n",
    "# solve affine cypher\n",
    "\n",
    "\n",
    "# solve c_1 = a * t_1 + b (mod 35)\n",
    "# solve c_2 = a * t_2 + b (mod 35)\n",
    "\n",
    "c_1 = map1['v']\n",
    "t_1 = map1['e']\n",
    "\n",
    "c_2 = map1['6']\n",
    "t_2 = map1['r']\n",
    "\n",
    "# solve for a and b\n",
    "a = (c_2 - c_1)*(t_2 - t_1)**-1 % 35\n",
    "b = (c_1 - a*t_1) % 35\n",
    "\n",
    "print(a ,b) # does not exist"
   ]
  },
  {
   "cell_type": "code",
   "execution_count": 16,
   "metadata": {},
   "outputs": [
    {
     "name": "stdout",
     "output_type": "stream",
     "text": [
      "0.9166666666666666 16.333333333333332\n"
     ]
    }
   ],
   "source": [
    "# Most popular letters: e, a, r, i, o, t, n, s\n",
    "# Most popular letters in cypher: v, 6, g, 5, b\n",
    "#  e->v ; r->6\n",
    "# solve affine cypher\n",
    "\n",
    "\n",
    "# solve c_1 = a * t_1 + b (mod 35)\n",
    "# solve c_2 = a * t_2 + b (mod 35)\n",
    "\n",
    "c_1 = map1['v']\n",
    "t_1 = map1['e']\n",
    "\n",
    "c_2 = map1['6']\n",
    "t_2 = map1['r']\n",
    "\n",
    "# solve for a and b\n",
    "a = (c_2 - c_1)*(t_2 - t_1)**-1 % 35\n",
    "b = (c_1 - a*t_1) % 35\n",
    "\n",
    "print(a ,b) # does not exist"
   ]
  },
  {
   "cell_type": "code",
   "execution_count": null,
   "metadata": {},
   "outputs": [],
   "source": [
    "# Nerandu raktu, ieskau lyg teisingai, bet nerandu sveiku poru, labai tikiuosi 5 uz pastangas parasysit.. 0_0"
   ]
  },
  {
   "cell_type": "code",
   "execution_count": null,
   "metadata": {},
   "outputs": [
    {
     "ename": "",
     "evalue": "",
     "output_type": "error",
     "traceback": [
      "\u001b[1;31mRunning cells with '/' requires ipykernel package.\n",
      "\u001b[1;31mRun the following command to install 'ipykernel' into the Python environment. \n",
      "\u001b[1;31mCommand: '/ -m pip install ipykernel -U --user --force-reinstall'"
     ]
    }
   ],
   "source": [
    "import seaborn as sns\n",
    "import matplotlib.pyplot as plt\n",
    "import pandas as pd\n",
    "import numpy as np\n"
   ]
  },
  {
   "cell_type": "code",
   "execution_count": null,
   "metadata": {},
   "outputs": [],
   "source": []
  },
  {
   "cell_type": "code",
   "execution_count": null,
   "metadata": {},
   "outputs": [],
   "source": []
  }
 ],
 "metadata": {
  "kernelspec": {
   "display_name": "base",
   "language": "python",
   "name": "python3"
  },
  "language_info": {
   "codemirror_mode": {
    "name": "ipython",
    "version": 3
   },
   "file_extension": ".py",
   "mimetype": "text/x-python",
   "name": "python",
   "nbconvert_exporter": "python",
   "pygments_lexer": "ipython3"
  },
  "orig_nbformat": 4,
  "vscode": {
   "interpreter": {
    "hash": "8a5edab282632443219e051e4ade2d1d5bbc671c781051bf1437897cbdfea0f1"
   }
  }
 },
 "nbformat": 4,
 "nbformat_minor": 2
}
