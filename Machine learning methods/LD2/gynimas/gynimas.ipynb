{
 "cells": [
  {
   "cell_type": "code",
   "execution_count": 1,
   "id": "a570b53c",
   "metadata": {},
   "outputs": [],
   "source": [
    "import pandas as pd\n",
    "from sklearn.discriminant_analysis import QuadraticDiscriminantAnalysis as QDA\n",
    "from sklearn.discriminant_analysis import LinearDiscriminantAnalysis\n",
    "from sklearn.metrics import confusion_matrix\n",
    "from sklearn.model_selection import cross_val_score\n",
    "from sklearn.tree import DecisionTreeClassifier\n"
   ]
  },
  {
   "cell_type": "code",
   "execution_count": 2,
   "id": "1ca7439f",
   "metadata": {},
   "outputs": [],
   "source": [
    "trn = pd.read_csv('train.csv')\n",
    "tst = pd.read_csv('test.csv')"
   ]
  },
  {
   "cell_type": "code",
   "execution_count": 3,
   "id": "9b187688",
   "metadata": {},
   "outputs": [
    {
     "data": {
      "text/plain": [
       "array([0, 1], dtype=int64)"
      ]
     },
     "execution_count": 3,
     "metadata": {},
     "output_type": "execute_result"
    }
   ],
   "source": [
    "trn['class'].unique()"
   ]
  },
  {
   "cell_type": "code",
   "execution_count": 4,
   "id": "1ef76226",
   "metadata": {},
   "outputs": [
    {
     "name": "stdout",
     "output_type": "stream",
     "text": [
      "0.7615\n"
     ]
    }
   ],
   "source": [
    "# 1uzd, 2uzd\n",
    "X_train = trn.drop(['class','X1'], axis=1)\n",
    "y_train = trn['class']\n",
    "\n",
    "clf = LinearDiscriminantAnalysis()\n",
    "\n",
    "clf.fit(X_train, y_train)\n",
    "\n",
    "X_test = tst.drop(['class','X1'], axis=1)\n",
    "y_test = tst['class']\n",
    "\n",
    "y_pred = clf.predict(X_test)\n",
    "\n",
    "a = pd.crosstab(y_test, y_pred).to_numpy()\n",
    "overall_accuracy = a.diagonal().sum()/a.sum()\n",
    "print(overall_accuracy)"
   ]
  },
  {
   "cell_type": "code",
   "execution_count": 5,
   "id": "0ed5a630",
   "metadata": {},
   "outputs": [
    {
     "data": {
      "text/plain": [
       "array([0.819, 0.704])"
      ]
     },
     "execution_count": 5,
     "metadata": {},
     "output_type": "execute_result"
    }
   ],
   "source": [
    "# 3uzd, 4uzd\n",
    "matrix = confusion_matrix(y_test, y_pred)\n",
    "matrix.diagonal()/matrix.sum(axis=1)"
   ]
  },
  {
   "cell_type": "code",
   "execution_count": 6,
   "id": "00c56040",
   "metadata": {},
   "outputs": [
    {
     "name": "stdout",
     "output_type": "stream",
     "text": [
      "0.8855\n"
     ]
    }
   ],
   "source": [
    "# 5uzd, 6uzd\n",
    "X_train = trn.drop(['class'], axis=1)\n",
    "y_train = trn['class']\n",
    "\n",
    "clf = QDA()\n",
    "\n",
    "clf.fit(X_train, y_train)\n",
    "\n",
    "X_test = tst.drop(['class'], axis=1)\n",
    "y_test = tst['class']\n",
    "\n",
    "y_pred = clf.predict(X_test)\n",
    "\n",
    "a = pd.crosstab(y_test, y_pred).to_numpy()\n",
    "overall_accuracy = a.diagonal().sum()/a.sum()\n",
    "print(overall_accuracy)"
   ]
  },
  {
   "cell_type": "code",
   "execution_count": 7,
   "id": "95942012",
   "metadata": {},
   "outputs": [
    {
     "data": {
      "text/plain": [
       "array([0.957, 0.814])"
      ]
     },
     "execution_count": 7,
     "metadata": {},
     "output_type": "execute_result"
    }
   ],
   "source": [
    "# 7uzd, 8uzd\n",
    "matrix = confusion_matrix(y_test, y_pred)\n",
    "matrix.diagonal()/matrix.sum(axis=1)"
   ]
  },
  {
   "cell_type": "code",
   "execution_count": 8,
   "id": "917a64da",
   "metadata": {},
   "outputs": [
    {
     "name": "stdout",
     "output_type": "stream",
     "text": [
      "0.7615\n",
      "0.7395\n",
      "0.715\n"
     ]
    }
   ],
   "source": [
    "# 9uzd\n",
    "#x1\n",
    "X_train = trn.drop(['class','X1'], axis=1)\n",
    "y_train = trn['class']\n",
    "clf = LinearDiscriminantAnalysis()\n",
    "clf.fit(X_train, y_train)\n",
    "X_test = tst.drop(['class','X1'], axis=1)\n",
    "y_test = tst['class']\n",
    "y_pred = clf.predict(X_test)\n",
    "a = pd.crosstab(y_test, y_pred).to_numpy()\n",
    "overall_accuracy = a.diagonal().sum()/a.sum()\n",
    "print(overall_accuracy)\n",
    "\n",
    "#x2\n",
    "X_train = trn.drop(['class','X2'], axis=1)\n",
    "y_train = trn['class']\n",
    "clf = LinearDiscriminantAnalysis()\n",
    "clf.fit(X_train, y_train)\n",
    "X_test = tst.drop(['class','X2'], axis=1)\n",
    "y_test = tst['class']\n",
    "y_pred = clf.predict(X_test)\n",
    "a = pd.crosstab(y_test, y_pred).to_numpy()\n",
    "overall_accuracy = a.diagonal().sum()/a.sum()\n",
    "print(overall_accuracy)\n",
    "\n",
    "#x3\n",
    "X_train = trn.drop(['class','X3'], axis=1)\n",
    "y_train = trn['class']\n",
    "clf = LinearDiscriminantAnalysis()\n",
    "clf.fit(X_train, y_train)\n",
    "X_test = tst.drop(['class','X3'], axis=1)\n",
    "y_test = tst['class']\n",
    "y_pred = clf.predict(X_test)\n",
    "a = pd.crosstab(y_test, y_pred).to_numpy()\n",
    "overall_accuracy = a.diagonal().sum()/a.sum()\n",
    "print(overall_accuracy)"
   ]
  },
  {
   "cell_type": "code",
   "execution_count": 9,
   "id": "cb111019",
   "metadata": {},
   "outputs": [],
   "source": [
    "# 11 unpruned tree have not found api for post trainining pruning\n",
    "from sklearn.tree import DecisionTreeClassifier\n",
    "\n",
    "clf = DecisionTreeClassifier(random_state=123, ccp_alpha=0, min_samples_leaf=1, min_samples_split=2)\n",
    "clf.fit(X_train, y_train)\n",
    "\n",
    "y_pred = clf.predict(X_test)\n",
    "\n"
   ]
  },
  {
   "cell_type": "code",
   "execution_count": 10,
   "id": "de2ccad4",
   "metadata": {},
   "outputs": [
    {
     "data": {
      "text/plain": [
       "0.7585"
      ]
     },
     "execution_count": 10,
     "metadata": {},
     "output_type": "execute_result"
    }
   ],
   "source": [
    "# 11 pruned tree\n",
    "\n",
    "clf = DecisionTreeClassifier(random_state=123, ccp_alpha=0.0045, min_samples_leaf=1, min_samples_split=2)\n",
    "clf.fit(X_train, y_train)\n",
    "\n",
    "y_pred = clf.predict(X_test)\n",
    "\n",
    "scores = cross_val_score(clf, X_train, y_train, cv=10)\n",
    "scores.mean()"
   ]
  },
  {
   "cell_type": "code",
   "execution_count": 11,
   "id": "65f72349",
   "metadata": {},
   "outputs": [
    {
     "name": "stdout",
     "output_type": "stream",
     "text": [
      "0.6825\n"
     ]
    }
   ],
   "source": [
    "# 12 full test\n",
    "clf = DecisionTreeClassifier(random_state=123, ccp_alpha=0, min_samples_leaf=1, min_samples_split=2)\n",
    "clf.fit(X_train, y_train)\n",
    "\n",
    "y_pred = clf.predict(X_test)\n",
    "\n",
    "a = pd.crosstab(y_test, y_pred).to_numpy()\n",
    "overall_accuracy = a.diagonal().sum()/a.sum()\n",
    "print(overall_accuracy)"
   ]
  },
  {
   "cell_type": "code",
   "execution_count": 12,
   "id": "e735e7f9",
   "metadata": {},
   "outputs": [
    {
     "name": "stdout",
     "output_type": "stream",
     "text": [
      "0.7505\n"
     ]
    }
   ],
   "source": [
    "# 12 pruned test\n",
    "clf = DecisionTreeClassifier(random_state=123, ccp_alpha=0.0045, min_samples_leaf=1, min_samples_split=2)\n",
    "clf.fit(X_train, y_train)\n",
    "\n",
    "y_pred = clf.predict(X_test)\n",
    "\n",
    "a = pd.crosstab(y_test, y_pred).to_numpy()\n",
    "overall_accuracy = a.diagonal().sum()/a.sum()\n",
    "print(overall_accuracy)"
   ]
  },
  {
   "cell_type": "code",
   "execution_count": 13,
   "id": "5f5a1a75",
   "metadata": {},
   "outputs": [
    {
     "name": "stdout",
     "output_type": "stream",
     "text": [
      "1.0\n",
      "0.6825\n"
     ]
    }
   ],
   "source": [
    "# 13 full train\n",
    "clf = DecisionTreeClassifier(random_state=123, ccp_alpha=0, min_samples_leaf=1, min_samples_split=2)\n",
    "clf.fit(X_train, y_train)\n",
    "\n",
    "y_pred = clf.predict(X_train)\n",
    "\n",
    "a = pd.crosstab(y_train, y_pred).to_numpy()\n",
    "overall_accuracy = a.diagonal().sum()/a.sum()\n",
    "print(overall_accuracy)\n",
    "\n",
    "\n",
    "y_pred = clf.predict(X_test)\n",
    "\n",
    "a = pd.crosstab(y_test, y_pred).to_numpy()\n",
    "overall_accuracy = a.diagonal().sum()/a.sum()\n",
    "print(overall_accuracy)"
   ]
  },
  {
   "cell_type": "code",
   "execution_count": null,
   "id": "59d36709",
   "metadata": {},
   "outputs": [],
   "source": []
  }
 ],
 "metadata": {
  "kernelspec": {
   "display_name": "Python 3 (ipykernel)",
   "language": "python",
   "name": "python3"
  },
  "language_info": {
   "codemirror_mode": {
    "name": "ipython",
    "version": 3
   },
   "file_extension": ".py",
   "mimetype": "text/x-python",
   "name": "python",
   "nbconvert_exporter": "python",
   "pygments_lexer": "ipython3",
   "version": "3.9.13"
  }
 },
 "nbformat": 4,
 "nbformat_minor": 5
}
