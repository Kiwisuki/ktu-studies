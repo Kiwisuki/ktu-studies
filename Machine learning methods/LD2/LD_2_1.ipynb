{
 "cells": [
  {
   "cell_type": "code",
   "execution_count": 1,
   "id": "671e2b68",
   "metadata": {},
   "outputs": [],
   "source": [
    "import pandas as pd\n",
    "import numpy as np\n",
    "import matplotlib.pyplot as plt"
   ]
  },
  {
   "cell_type": "code",
   "execution_count": 2,
   "id": "89dfd0fc",
   "metadata": {},
   "outputs": [],
   "source": [
    "df = pd.read_csv('sign_mnist_train.csv')\n",
    "tst = pd.read_csv('sign_mnist_test.csv')"
   ]
  },
  {
   "cell_type": "code",
   "execution_count": 3,
   "id": "f5bf8ce4",
   "metadata": {},
   "outputs": [
    {
     "data": {
      "text/html": [
       "<div>\n",
       "<style scoped>\n",
       "    .dataframe tbody tr th:only-of-type {\n",
       "        vertical-align: middle;\n",
       "    }\n",
       "\n",
       "    .dataframe tbody tr th {\n",
       "        vertical-align: top;\n",
       "    }\n",
       "\n",
       "    .dataframe thead th {\n",
       "        text-align: right;\n",
       "    }\n",
       "</style>\n",
       "<table border=\"1\" class=\"dataframe\">\n",
       "  <thead>\n",
       "    <tr style=\"text-align: right;\">\n",
       "      <th></th>\n",
       "      <th>label</th>\n",
       "      <th>pixel1</th>\n",
       "      <th>pixel2</th>\n",
       "      <th>pixel3</th>\n",
       "      <th>pixel4</th>\n",
       "      <th>pixel5</th>\n",
       "      <th>pixel6</th>\n",
       "      <th>pixel7</th>\n",
       "      <th>pixel8</th>\n",
       "      <th>pixel9</th>\n",
       "      <th>...</th>\n",
       "      <th>pixel775</th>\n",
       "      <th>pixel776</th>\n",
       "      <th>pixel777</th>\n",
       "      <th>pixel778</th>\n",
       "      <th>pixel779</th>\n",
       "      <th>pixel780</th>\n",
       "      <th>pixel781</th>\n",
       "      <th>pixel782</th>\n",
       "      <th>pixel783</th>\n",
       "      <th>pixel784</th>\n",
       "    </tr>\n",
       "  </thead>\n",
       "  <tbody>\n",
       "    <tr>\n",
       "      <th>0</th>\n",
       "      <td>3</td>\n",
       "      <td>107</td>\n",
       "      <td>118</td>\n",
       "      <td>127</td>\n",
       "      <td>134</td>\n",
       "      <td>139</td>\n",
       "      <td>143</td>\n",
       "      <td>146</td>\n",
       "      <td>150</td>\n",
       "      <td>153</td>\n",
       "      <td>...</td>\n",
       "      <td>207</td>\n",
       "      <td>207</td>\n",
       "      <td>207</td>\n",
       "      <td>207</td>\n",
       "      <td>206</td>\n",
       "      <td>206</td>\n",
       "      <td>206</td>\n",
       "      <td>204</td>\n",
       "      <td>203</td>\n",
       "      <td>202</td>\n",
       "    </tr>\n",
       "    <tr>\n",
       "      <th>1</th>\n",
       "      <td>6</td>\n",
       "      <td>155</td>\n",
       "      <td>157</td>\n",
       "      <td>156</td>\n",
       "      <td>156</td>\n",
       "      <td>156</td>\n",
       "      <td>157</td>\n",
       "      <td>156</td>\n",
       "      <td>158</td>\n",
       "      <td>158</td>\n",
       "      <td>...</td>\n",
       "      <td>69</td>\n",
       "      <td>149</td>\n",
       "      <td>128</td>\n",
       "      <td>87</td>\n",
       "      <td>94</td>\n",
       "      <td>163</td>\n",
       "      <td>175</td>\n",
       "      <td>103</td>\n",
       "      <td>135</td>\n",
       "      <td>149</td>\n",
       "    </tr>\n",
       "    <tr>\n",
       "      <th>2</th>\n",
       "      <td>2</td>\n",
       "      <td>187</td>\n",
       "      <td>188</td>\n",
       "      <td>188</td>\n",
       "      <td>187</td>\n",
       "      <td>187</td>\n",
       "      <td>186</td>\n",
       "      <td>187</td>\n",
       "      <td>188</td>\n",
       "      <td>187</td>\n",
       "      <td>...</td>\n",
       "      <td>202</td>\n",
       "      <td>201</td>\n",
       "      <td>200</td>\n",
       "      <td>199</td>\n",
       "      <td>198</td>\n",
       "      <td>199</td>\n",
       "      <td>198</td>\n",
       "      <td>195</td>\n",
       "      <td>194</td>\n",
       "      <td>195</td>\n",
       "    </tr>\n",
       "    <tr>\n",
       "      <th>3</th>\n",
       "      <td>2</td>\n",
       "      <td>211</td>\n",
       "      <td>211</td>\n",
       "      <td>212</td>\n",
       "      <td>212</td>\n",
       "      <td>211</td>\n",
       "      <td>210</td>\n",
       "      <td>211</td>\n",
       "      <td>210</td>\n",
       "      <td>210</td>\n",
       "      <td>...</td>\n",
       "      <td>235</td>\n",
       "      <td>234</td>\n",
       "      <td>233</td>\n",
       "      <td>231</td>\n",
       "      <td>230</td>\n",
       "      <td>226</td>\n",
       "      <td>225</td>\n",
       "      <td>222</td>\n",
       "      <td>229</td>\n",
       "      <td>163</td>\n",
       "    </tr>\n",
       "    <tr>\n",
       "      <th>4</th>\n",
       "      <td>13</td>\n",
       "      <td>164</td>\n",
       "      <td>167</td>\n",
       "      <td>170</td>\n",
       "      <td>172</td>\n",
       "      <td>176</td>\n",
       "      <td>179</td>\n",
       "      <td>180</td>\n",
       "      <td>184</td>\n",
       "      <td>185</td>\n",
       "      <td>...</td>\n",
       "      <td>92</td>\n",
       "      <td>105</td>\n",
       "      <td>105</td>\n",
       "      <td>108</td>\n",
       "      <td>133</td>\n",
       "      <td>163</td>\n",
       "      <td>157</td>\n",
       "      <td>163</td>\n",
       "      <td>164</td>\n",
       "      <td>179</td>\n",
       "    </tr>\n",
       "  </tbody>\n",
       "</table>\n",
       "<p>5 rows × 785 columns</p>\n",
       "</div>"
      ],
      "text/plain": [
       "   label  pixel1  pixel2  pixel3  pixel4  pixel5  pixel6  pixel7  pixel8  \\\n",
       "0      3     107     118     127     134     139     143     146     150   \n",
       "1      6     155     157     156     156     156     157     156     158   \n",
       "2      2     187     188     188     187     187     186     187     188   \n",
       "3      2     211     211     212     212     211     210     211     210   \n",
       "4     13     164     167     170     172     176     179     180     184   \n",
       "\n",
       "   pixel9  ...  pixel775  pixel776  pixel777  pixel778  pixel779  pixel780  \\\n",
       "0     153  ...       207       207       207       207       206       206   \n",
       "1     158  ...        69       149       128        87        94       163   \n",
       "2     187  ...       202       201       200       199       198       199   \n",
       "3     210  ...       235       234       233       231       230       226   \n",
       "4     185  ...        92       105       105       108       133       163   \n",
       "\n",
       "   pixel781  pixel782  pixel783  pixel784  \n",
       "0       206       204       203       202  \n",
       "1       175       103       135       149  \n",
       "2       198       195       194       195  \n",
       "3       225       222       229       163  \n",
       "4       157       163       164       179  \n",
       "\n",
       "[5 rows x 785 columns]"
      ]
     },
     "execution_count": 3,
     "metadata": {},
     "output_type": "execute_result"
    }
   ],
   "source": [
    "df.head()"
   ]
  },
  {
   "cell_type": "code",
   "execution_count": 4,
   "id": "f2156f23",
   "metadata": {},
   "outputs": [
    {
     "data": {
      "image/png": "[encoded data removed]",
      "text/plain": [
       "<Figure size 432x288 with 16 Axes>"
      ]
     },
     "metadata": {
      "needs_background": "light"
     },
     "output_type": "display_data"
    }
   ],
   "source": [
    "# The first column is the label\n",
    "indexes = df[df['label'] == 2].index[0:16]\n",
    "photos = []\n",
    "\n",
    "for i in indexes:\n",
    "    data = df.iloc[i]\n",
    "    label = data[0]\n",
    "\n",
    "    # The rest of columns are pixels\n",
    "    pixels = data[1:]\n",
    "    pixels = np.array(pixels, dtype='uint8')\n",
    "    pixels = pixels.reshape((28, 28))\n",
    "    photos.append(pixels)\n",
    "\n",
    "\n",
    "\n",
    "\n",
    "fig = plt.figure()\n",
    "\n",
    "for i in range(0, 16):\n",
    "    plt.subplot(4, 4, i+1)\n",
    "    plt.imshow(photos[i], cmap='gray')\n",
    "\n"
   ]
  },
  {
   "cell_type": "code",
   "execution_count": 5,
   "id": "94b4a628",
   "metadata": {},
   "outputs": [
    {
     "name": "stdout",
     "output_type": "stream",
     "text": [
      "0.4326547685443391\n",
      "[0.82175227 0.63194444 0.78709677 0.61632653 0.6064257  0.42105263\n",
      " 0.49712644 0.53669725 0.13194444 0.3897281  0.44019139 0.25888325\n",
      " 0.24054983 0.41869919 0.2074928  0.49390244 0.15972222 0.34552846\n",
      " 0.47983871 0.30075188 0.26589595 0.39805825 0.3258427  0.28614458]\n"
     ]
    }
   ],
   "source": [
    "X_train = df.drop('label', axis=1)\n",
    "y_train = df['label']\n",
    "\n",
    "from sklearn.discriminant_analysis import LinearDiscriminantAnalysis\n",
    "clf = LinearDiscriminantAnalysis()\n",
    "clf.fit(X_train, y_train)\n",
    "\n",
    "X_test = tst.drop('label', axis=1)\n",
    "y_test = tst['label']\n",
    "\n",
    "y_pred = clf.predict(X_test)\n",
    "\n",
    "a = pd.crosstab(y_test, y_pred).to_numpy()\n",
    "overall_accuracy = a.diagonal().sum()/a.sum()\n",
    "print(overall_accuracy)\n",
    "\n",
    "from sklearn.metrics import confusion_matrix\n",
    "matrix = confusion_matrix(y_test, y_pred)\n",
    "print(matrix.diagonal()/matrix.sum(axis=1))"
   ]
  },
  {
   "cell_type": "code",
   "execution_count": null,
   "id": "c4f96dc1",
   "metadata": {},
   "outputs": [],
   "source": []
  },
  {
   "cell_type": "code",
   "execution_count": 6,
   "id": "44385060",
   "metadata": {},
   "outputs": [],
   "source": [
    "#skimage resize with interpolation"
   ]
  },
  {
   "cell_type": "code",
   "execution_count": 14,
   "id": "12dc4c6d",
   "metadata": {},
   "outputs": [
    {
     "name": "stdout",
     "output_type": "stream",
     "text": [
      "0.6143335192414947\n",
      "[0.84592145 0.89583333 0.82903226 0.5877551  0.82931727 0.66801619\n",
      " 0.56321839 0.58027523 0.6875     0.46223565 0.99521531 0.60152284\n",
      " 0.17525773 0.75203252 0.32564841 0.74390244 0.39583333 0.52845528\n",
      " 0.57258065 0.39097744 0.43930636 0.52427184 0.68539326 0.5060241 ]\n"
     ]
    },
    {
     "data": {
      "image/png": "[encoded data removed]",
      "text/plain": [
       "<Figure size 432x288 with 1 Axes>"
      ]
     },
     "metadata": {
      "needs_background": "light"
     },
     "output_type": "display_data"
    }
   ],
   "source": [
    "import numpy as np\n",
    "from skimage.transform import resize\n",
    "\n",
    "def downsize(data):\n",
    "    label = data[0]\n",
    "\n",
    "    # The rest of columns are pixels\n",
    "    pixels = data[1:]\n",
    "    pixels = np.array(pixels)\n",
    "    pixels = pixels.reshape((28, 28))\n",
    "    \n",
    "    dim1, dim2 = 14, 14\n",
    "    test_resized = resize(pixels,(dim1,dim2), anti_aliasing=False)\n",
    "    return np.append(test_resized.flatten(), label)\n",
    "\n",
    "\n",
    "new_rows = []\n",
    "for index, row in df.iterrows():\n",
    "    new_rows.append(downsize(row))\n",
    "    \n",
    "new_test_rows = []\n",
    "for index, row in tst.iterrows():\n",
    "    new_test_rows.append(downsize(row))\n",
    "    \n",
    "    \n",
    "new_df = pd.DataFrame(new_rows)\n",
    "new_test = pd.DataFrame(new_test_rows)\n",
    "\n",
    "pixels = new_df.drop(196, axis=1).iloc[0]\n",
    "pixels = np.array(pixels)\n",
    "pixels = pixels.reshape((14, 14))\n",
    "\n",
    "plt.imshow(pixels, cmap='gray')\n",
    "\n",
    "X_train = new_df.drop(196, axis=1)\n",
    "y_train = new_df[196]\n",
    "\n",
    "from sklearn.discriminant_analysis import LinearDiscriminantAnalysis\n",
    "clf = LinearDiscriminantAnalysis()\n",
    "clf.fit(X_train, y_train)\n",
    "\n",
    "X_test = new_test.drop(196, axis=1)\n",
    "y_test = new_test[196]\n",
    "\n",
    "y_pred = clf.predict(X_test)\n",
    "\n",
    "a = pd.crosstab(y_test, y_pred).to_numpy()\n",
    "overall_accuracy = a.diagonal().sum()/a.sum()\n",
    "print(overall_accuracy)\n",
    "\n",
    "from sklearn.metrics import confusion_matrix\n",
    "matrix = confusion_matrix(y_test, y_pred)\n",
    "print(matrix.diagonal()/matrix.sum(axis=1))"
   ]
  },
  {
   "cell_type": "code",
   "execution_count": null,
   "id": "431227dd",
   "metadata": {},
   "outputs": [],
   "source": []
  },
  {
   "cell_type": "code",
   "execution_count": 8,
   "id": "2f3e3069",
   "metadata": {},
   "outputs": [
    {
     "name": "stderr",
     "output_type": "stream",
     "text": [
      "C:\\Users\\mariusarlauskas\\AppData\\Local\\Temp\\ipykernel_2952\\2270350709.py:3: SettingWithCopyWarning: \n",
      "A value is trying to be set on a copy of a slice from a DataFrame.\n",
      "Try using .loc[row_indexer,col_indexer] = value instead\n",
      "\n",
      "See the caveats in the documentation: https://pandas.pydata.org/pandas-docs/stable/user_guide/indexing.html#returning-a-view-versus-a-copy\n",
      "  ndf['label'] = df['label']\n",
      "C:\\Users\\mariusarlauskas\\AppData\\Local\\Temp\\ipykernel_2952\\2270350709.py:6: SettingWithCopyWarning: \n",
      "A value is trying to be set on a copy of a slice from a DataFrame.\n",
      "Try using .loc[row_indexer,col_indexer] = value instead\n",
      "\n",
      "See the caveats in the documentation: https://pandas.pydata.org/pandas-docs/stable/user_guide/indexing.html#returning-a-view-versus-a-copy\n",
      "  tdf['label'] = tst['label']\n"
     ]
    },
    {
     "name": "stdout",
     "output_type": "stream",
     "text": [
      "0.6129392080312326\n",
      "[0.90030211 0.85416667 0.77741935 0.66530612 0.85943775 0.49392713\n",
      " 0.47988506 0.64678899 0.54861111 0.48338369 0.99521531 0.50507614\n",
      " 0.21649485 0.67479675 0.60806916 0.67682927 0.36805556 0.55284553\n",
      " 0.58870968 0.4962406  0.45375723 0.57281553 0.52808989 0.50301205]\n"
     ]
    }
   ],
   "source": [
    "# cutting top and bottom additionally\n",
    "ndf = new_df.iloc[:, list(range(14*1, 14*12))] # cutting off top and bottom of picture\n",
    "ndf['label'] = df['label']\n",
    "\n",
    "tdf = new_test.iloc[:, list(range(14*1, 14*12))] # cutting off top and bottom of picture\n",
    "tdf['label'] = tst['label']\n",
    "\n",
    "X_train = ndf.drop('label', axis=1)\n",
    "y_train = ndf['label']\n",
    "\n",
    "from sklearn.discriminant_analysis import LinearDiscriminantAnalysis\n",
    "clf = LinearDiscriminantAnalysis()\n",
    "clf.fit(X_train, y_train)\n",
    "\n",
    "X_test = tdf.drop('label', axis=1)\n",
    "y_test = tdf['label']\n",
    "\n",
    "y_pred = clf.predict(X_test)\n",
    "\n",
    "a = pd.crosstab(y_test, y_pred).to_numpy()\n",
    "overall_accuracy = a.diagonal().sum()/a.sum()\n",
    "print(overall_accuracy)\n",
    "\n",
    "from sklearn.metrics import confusion_matrix\n",
    "matrix = confusion_matrix(y_test, y_pred)\n",
    "print(matrix.diagonal()/matrix.sum(axis=1))"
   ]
  },
  {
   "cell_type": "code",
   "execution_count": null,
   "id": "0e9b4df8",
   "metadata": {},
   "outputs": [],
   "source": [
    "#taking every second pixel"
   ]
  },
  {
   "cell_type": "code",
   "execution_count": 11,
   "id": "52319d77",
   "metadata": {},
   "outputs": [
    {
     "name": "stdout",
     "output_type": "stream",
     "text": [
      "0.5779419966536531\n",
      "[0.86102719 0.71759259 0.86451613 0.65306122 0.69879518 0.4534413\n",
      " 0.60344828 0.6353211  0.44444444 0.41087613 0.81818182 0.65736041\n",
      " 0.20274914 0.58130081 0.57925072 0.74390244 0.47222222 0.44308943\n",
      " 0.64516129 0.37969925 0.34682081 0.36893204 0.58801498 0.49698795]\n"
     ]
    },
    {
     "data": {
      "text/plain": [
       "<matplotlib.image.AxesImage at 0x1660d562fa0>"
      ]
     },
     "execution_count": 11,
     "metadata": {},
     "output_type": "execute_result"
    },
    {
     "data": {
      "image/png": "[encoded data removed]",
      "text/plain": [
       "<Figure size 432x288 with 1 Axes>"
      ]
     },
     "metadata": {
      "needs_background": "light"
     },
     "output_type": "display_data"
    }
   ],
   "source": [
    "import numpy as np\n",
    "from skimage.transform import resize\n",
    "\n",
    "def downsize(data):\n",
    "    label = data[0]\n",
    "\n",
    "    # The rest of columns are pixels\n",
    "    pixels = data[1:]\n",
    "    pixels = np.array(pixels)\n",
    "    pixels = pixels.reshape((28, 28))\n",
    "    \n",
    "    dim1, dim2 = 14, 14\n",
    "    test_resized = pixels[::2, ::2]\n",
    "    return test_resized.flatten()\n",
    "\n",
    "\n",
    "new_rows = []\n",
    "for index, row in df.iterrows():\n",
    "    new_rows.append(downsize(row))\n",
    "    \n",
    "new_test_rows = []\n",
    "for index, row in tst.iterrows():\n",
    "    new_test_rows.append(downsize(row))\n",
    "    \n",
    "new_df = pd.DataFrame(new_rows)\n",
    "new_test = pd.DataFrame(new_test_rows)\n",
    "\n",
    "X_train = new_df\n",
    "y_train = df['label']\n",
    "\n",
    "from sklearn.discriminant_analysis import LinearDiscriminantAnalysis\n",
    "clf = LinearDiscriminantAnalysis()\n",
    "clf.fit(X_train, y_train)\n",
    "\n",
    "X_test = new_test\n",
    "y_test = tst['label']\n",
    "\n",
    "y_pred = clf.predict(X_test)\n",
    "\n",
    "a = pd.crosstab(y_test, y_pred).to_numpy()\n",
    "overall_accuracy = a.diagonal().sum()/a.sum()\n",
    "print(overall_accuracy)\n",
    "\n",
    "from sklearn.metrics import confusion_matrix\n",
    "matrix = confusion_matrix(y_test, y_pred)\n",
    "print(matrix.diagonal()/matrix.sum(axis=1))    \n",
    "\n",
    "\n",
    "pixels = new_df.iloc[0]\n",
    "pixels = np.array(pixels)\n",
    "pixels = pixels.reshape((14, 14))\n",
    "\n",
    "plt.imshow(pixels, cmap='gray')"
   ]
  },
  {
   "cell_type": "code",
   "execution_count": 12,
   "id": "e4bf4889",
   "metadata": {},
   "outputs": [],
   "source": [
    "# downsizing with interpolation + antialiasing"
   ]
  },
  {
   "cell_type": "code",
   "execution_count": 13,
   "id": "57003aa3",
   "metadata": {},
   "outputs": [
    {
     "name": "stdout",
     "output_type": "stream",
     "text": [
      "0.6214445064138315\n",
      "[0.8489426  0.90046296 0.8483871  0.6122449  0.85341365 0.63967611\n",
      " 0.57758621 0.5733945  0.6875     0.45619335 0.99521531 0.60406091\n",
      " 0.18556701 0.75203252 0.36887608 0.74390244 0.38194444 0.5203252\n",
      " 0.58467742 0.40225564 0.48554913 0.5        0.68164794 0.5060241 ]\n"
     ]
    },
    {
     "data": {
      "text/plain": [
       "<matplotlib.image.AxesImage at 0x1660ab11580>"
      ]
     },
     "execution_count": 13,
     "metadata": {},
     "output_type": "execute_result"
    },
    {
     "data": {
      "image/png": "[encoded data removed]",
      "text/plain": [
       "<Figure size 432x288 with 1 Axes>"
      ]
     },
     "metadata": {
      "needs_background": "light"
     },
     "output_type": "display_data"
    }
   ],
   "source": [
    "import numpy as np\n",
    "from skimage.transform import resize\n",
    "\n",
    "def downsize(data):\n",
    "    label = data[0]\n",
    "\n",
    "    # The rest of columns are pixels\n",
    "    pixels = data[1:]\n",
    "    pixels = np.array(pixels)\n",
    "    pixels = pixels.reshape((28, 28))\n",
    "    \n",
    "    dim1, dim2 = 14, 14\n",
    "    test_resized = resize(pixels,(dim1,dim2), anti_aliasing=True)\n",
    "    return test_resized.flatten()\n",
    "\n",
    "\n",
    "new_rows = []\n",
    "for index, row in df.iterrows():\n",
    "    new_rows.append(downsize(row))\n",
    "    \n",
    "new_test_rows = []\n",
    "for index, row in tst.iterrows():\n",
    "    new_test_rows.append(downsize(row))\n",
    "    \n",
    "new_df = pd.DataFrame(new_rows)\n",
    "new_test = pd.DataFrame(new_test_rows)\n",
    "\n",
    "X_train = new_df\n",
    "y_train = df['label']\n",
    "\n",
    "from sklearn.discriminant_analysis import LinearDiscriminantAnalysis\n",
    "clf = LinearDiscriminantAnalysis()\n",
    "clf.fit(X_train, y_train)\n",
    "\n",
    "X_test = new_test\n",
    "y_test = tst['label']\n",
    "\n",
    "y_pred = clf.predict(X_test)\n",
    "\n",
    "a = pd.crosstab(y_test, y_pred).to_numpy()\n",
    "overall_accuracy = a.diagonal().sum()/a.sum()\n",
    "print(overall_accuracy)\n",
    "\n",
    "from sklearn.metrics import confusion_matrix\n",
    "matrix = confusion_matrix(y_test, y_pred)\n",
    "print(matrix.diagonal()/matrix.sum(axis=1))    \n",
    "\n",
    "\n",
    "pixels = new_df.iloc[0]\n",
    "pixels = np.array(pixels)\n",
    "pixels = pixels.reshape((14, 14))\n",
    "\n",
    "plt.imshow(pixels, cmap='gray')"
   ]
  },
  {
   "cell_type": "code",
   "execution_count": null,
   "id": "30351e2c",
   "metadata": {},
   "outputs": [],
   "source": []
  }
 ],
 "metadata": {
  "kernelspec": {
   "display_name": "Python 3 (ipykernel)",
   "language": "python",
   "name": "python3"
  },
  "language_info": {
   "codemirror_mode": {
    "name": "ipython",
    "version": 3
   },
   "file_extension": ".py",
   "mimetype": "text/x-python",
   "name": "python",
   "nbconvert_exporter": "python",
   "pygments_lexer": "ipython3",
   "version": "3.9.13"
  }
 },
 "nbformat": 4,
 "nbformat_minor": 5
}
