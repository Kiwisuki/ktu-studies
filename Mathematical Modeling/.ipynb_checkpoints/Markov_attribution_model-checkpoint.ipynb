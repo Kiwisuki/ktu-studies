{
 "cells": [
  {
   "cell_type": "code",
   "execution_count": 24,
   "id": "e86aaf5b",
   "metadata": {},
   "outputs": [],
   "source": [
    "import numpy as np"
   ]
  },
  {
   "cell_type": "code",
   "execution_count": 25,
   "id": "860032ad",
   "metadata": {},
   "outputs": [
    {
     "data": {
      "text/plain": [
       "{0: 'Non_Conversion', 1: 'Dispay', 2: 'TV', 3: 'Search', 4: 'Conversion'}"
      ]
     },
     "execution_count": 25,
     "metadata": {},
     "output_type": "execute_result"
    }
   ],
   "source": [
    "state = {\n",
    "    0 : \"Non_Conversion\",\n",
    "    1 : \"Dispay\",\n",
    "    2 : \"TV\",\n",
    "    3 : 'Search',\n",
    "    4 : 'Conversion'\n",
    "}\n",
    "state"
   ]
  },
  {
   "cell_type": "code",
   "execution_count": 35,
   "id": "890d1b65",
   "metadata": {},
   "outputs": [
    {
     "data": {
      "text/plain": [
       "array([[1.   , 0.   , 0.   , 0.   , 0.   ],\n",
       "       [0.233, 0.   , 0.349, 0.407, 0.011],\n",
       "       [0.195, 0.367, 0.   , 0.428, 0.01 ],\n",
       "       [0.263, 0.351, 0.351, 0.   , 0.035],\n",
       "       [0.   , 0.   , 0.   , 0.   , 1.   ]])"
      ]
     },
     "execution_count": 35,
     "metadata": {},
     "output_type": "execute_result"
    }
   ],
   "source": [
    "A = np.array([[1, 0, 0, 0, 0], [0.233, 0, 0.349, 0.407, 0.011], [0.195, 0.367, 0, 0.428, 0.010], [0.263, 0.351, 0.351, 0, 0.035], [0, 0, 0, 0, 1]])\n",
    "A"
   ]
  },
  {
   "cell_type": "code",
   "execution_count": 85,
   "id": "13c32928",
   "metadata": {},
   "outputs": [
    {
     "name": "stdout",
     "output_type": "stream",
     "text": [
      "Dispay ---> TV ---> Non_Conversion ---> "
     ]
    }
   ],
   "source": [
    "for i in range(1):\n",
    "    n = 1000\n",
    "    start_state = 1\n",
    "    curr_state = start_state\n",
    "    print(state[curr_state], \"--->\", end=\" \")\n",
    "    while state[curr_state] not in [\"Non_Conversion\", \"Conversion\"]:\n",
    "        curr_state = np.random.choice([0, 1, 2, 3, 4], p=A[curr_state])\n",
    "        print(state[curr_state], \"--->\", end=\" \")"
   ]
  },
  {
   "cell_type": "code",
   "execution_count": null,
   "id": "4958c1d3",
   "metadata": {},
   "outputs": [],
   "source": []
  },
  {
   "cell_type": "code",
   "execution_count": 73,
   "id": "54b6bfa6",
   "metadata": {},
   "outputs": [
    {
     "data": {
      "text/plain": [
       "0"
      ]
     },
     "execution_count": 73,
     "metadata": {},
     "output_type": "execute_result"
    }
   ],
   "source": [
    "n"
   ]
  },
  {
   "cell_type": "code",
   "execution_count": null,
   "id": "4961b87d",
   "metadata": {},
   "outputs": [],
   "source": []
  }
 ],
 "metadata": {
  "kernelspec": {
   "display_name": "Python 3 (ipykernel)",
   "language": "python",
   "name": "python3"
  },
  "language_info": {
   "codemirror_mode": {
    "name": "ipython",
    "version": 3
   },
   "file_extension": ".py",
   "mimetype": "text/x-python",
   "name": "python",
   "nbconvert_exporter": "python",
   "pygments_lexer": "ipython3",
   "version": "3.9.13"
  }
 },
 "nbformat": 4,
 "nbformat_minor": 5
}
