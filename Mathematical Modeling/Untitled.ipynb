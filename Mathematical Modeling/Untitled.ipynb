{
 "cells": [
  {
   "cell_type": "code",
   "execution_count": 1,
   "id": "e80badcb",
   "metadata": {},
   "outputs": [],
   "source": [
    "import pandas as pd\n",
    "import numpy as np\n",
    "import seaborn as sns\n",
    "import matplotlib.pyplot as plt\n",
    "from matplotlib.pyplot import figure\n",
    "from datetime import datetime\n",
    "\n",
    "\n",
    "import warnings\n",
    "warnings.filterwarnings(\"ignore\")\n",
    "np.set_printoptions(suppress=True)\n",
    "%matplotlib inline\n",
    "pd.set_option('display.float_format', lambda x: '%.3f' % x)\n",
    "\n",
    "\n",
    "import google.cloud.bigquery as bq\n",
    "client = bq.Client.from_service_account_json(\"marius_arlauskas.json\")"
   ]
  },
  {
   "cell_type": "code",
   "execution_count": 2,
   "id": "2f32302f",
   "metadata": {},
   "outputs": [],
   "source": [
    "df = pd.read_csv('real.csv', index_col=0)"
   ]
  },
  {
   "cell_type": "code",
   "execution_count": 3,
   "id": "04f49b35",
   "metadata": {},
   "outputs": [
    {
     "data": {
      "text/plain": [
       "visit_started_at     0.000\n",
       "user_id              0.986\n",
       "order_id             0.986\n",
       "transactionId        0.971\n",
       "clientId             0.000\n",
       "sourceMedium         0.000\n",
       "campaign             0.000\n",
       "orderCouponCode      0.986\n",
       "sessionId            0.000\n",
       "time_dif             0.971\n",
       "upsell_price_value   0.971\n",
       "sub_price_value      0.971\n",
       "tax_value            0.971\n",
       "transactionRevenue   0.971\n",
       "subchannel           0.000\n",
       "channel              0.004\n",
       "dtype: float64"
      ]
     },
     "execution_count": 3,
     "metadata": {},
     "output_type": "execute_result"
    }
   ],
   "source": [
    "df.isna().sum()/len(df)"
   ]
  },
  {
   "cell_type": "code",
   "execution_count": 4,
   "id": "157248a0",
   "metadata": {},
   "outputs": [],
   "source": [
    "new_df = pd.DataFrame()\n",
    "new_df['cookie'] = df['clientId']\n",
    "new_df['conversion'] = df['transactionRevenue'].notna()*1\n",
    "new_df['conversion_value'] = df['transactionRevenue'].fillna(0)\n",
    "new_df['time'] = df['visit_started_at']\n",
    "new_df['channel'] = df['channel']\n",
    "new_df['sourceMedium'] = df['sourceMedium']\n",
    "new_df['subchannel'] = df['subchannel']\n",
    "\n",
    "df = new_df"
   ]
  },
  {
   "cell_type": "code",
   "execution_count": 5,
   "id": "e949b92e",
   "metadata": {},
   "outputs": [],
   "source": [
    "df.dropna(inplace=True)"
   ]
  },
  {
   "cell_type": "code",
   "execution_count": 6,
   "id": "f60ef339",
   "metadata": {},
   "outputs": [],
   "source": [
    "from collections import defaultdict\n",
    "\n",
    "df = df.sort_values(['cookie', 'time'],\n",
    "                    ascending=[False, True])\n",
    "df['visit_order'] = df.groupby('cookie').cumcount() + 1"
   ]
  },
  {
   "cell_type": "code",
   "execution_count": 7,
   "id": "f0e86feb",
   "metadata": {},
   "outputs": [],
   "source": [
    "df_paths = df.groupby('cookie')[['channel', 'time']].aggregate(\n",
    "    lambda x: x.tolist()).reset_index()\n"
   ]
  },
  {
   "cell_type": "code",
   "execution_count": 8,
   "id": "a0d87def",
   "metadata": {},
   "outputs": [],
   "source": [
    "df_paths['conversion'] = df.drop_duplicates(subset=['cookie'], keep='last').set_index('cookie', drop=True)['conversion'][df_paths['cookie']].values\n",
    "df_paths['conversion_value'] = df.drop_duplicates(subset=['cookie'], keep='last').set_index('cookie', drop=True)['conversion_value'][df_paths['cookie']].values"
   ]
  },
  {
   "cell_type": "code",
   "execution_count": 9,
   "id": "ded9fe0b",
   "metadata": {},
   "outputs": [],
   "source": [
    "from datetime import datetime\n",
    "def get_journey_len(x):\n",
    "    first = x[0]\n",
    "    last = x[-1]\n",
    "    first = datetime.strptime(first.split('+')[0], \"%Y-%m-%d %H:%M:%S\")\n",
    "    last = datetime.strptime(last.split('+')[0], \"%Y-%m-%d %H:%M:%S\")\n",
    "    return (last - first).total_seconds()\n"
   ]
  },
  {
   "cell_type": "code",
   "execution_count": 10,
   "id": "cab831db",
   "metadata": {},
   "outputs": [],
   "source": [
    "def time_in_between(x):\n",
    "    rez = [np.nan]\n",
    "    for i in range(len(x) - 1):\n",
    "        first = x[i]\n",
    "        last = x[i+1]\n",
    "        first = datetime.strptime(first.split('+')[0], \"%Y-%m-%d %H:%M:%S\")\n",
    "        last = datetime.strptime(last.split('+')[0], \"%Y-%m-%d %H:%M:%S\")\n",
    "        rez.append((last - first).total_seconds())\n",
    "    return np.array(rez)"
   ]
  },
  {
   "cell_type": "code",
   "execution_count": 11,
   "id": "aab01136",
   "metadata": {},
   "outputs": [],
   "source": [
    "df_paths['journey_full_time']  = df_paths['time'].apply(get_journey_len)"
   ]
  },
  {
   "cell_type": "code",
   "execution_count": 12,
   "id": "a38fea81",
   "metadata": {},
   "outputs": [],
   "source": [
    "df_paths['in_between_sessions'] = df_paths['time'].apply(time_in_between)"
   ]
  },
  {
   "cell_type": "code",
   "execution_count": 13,
   "id": "6cda4b82",
   "metadata": {},
   "outputs": [],
   "source": [
    "df_paths['journey_len'] = df_paths['channel'].apply(len)"
   ]
  },
  {
   "cell_type": "code",
   "execution_count": 14,
   "id": "c5f939e4",
   "metadata": {},
   "outputs": [],
   "source": [
    "df_paths['avg_time_in_between'] = df_paths['in_between_sessions'].apply(np.nanmean)"
   ]
  },
  {
   "cell_type": "code",
   "execution_count": 15,
   "id": "75f6b3ee",
   "metadata": {},
   "outputs": [
    {
     "data": {
      "text/plain": [
       "count   75257.000\n",
       "mean        2.126\n",
       "std         2.795\n",
       "min         1.000\n",
       "25%         1.000\n",
       "50%         1.000\n",
       "75%         2.000\n",
       "max       241.000\n",
       "Name: journey_len, dtype: float64"
      ]
     },
     "execution_count": 15,
     "metadata": {},
     "output_type": "execute_result"
    }
   ],
   "source": [
    "df_paths[df_paths['conversion']==1]['journey_len'].describe()"
   ]
  },
  {
   "cell_type": "code",
   "execution_count": 16,
   "id": "db4d955a",
   "metadata": {},
   "outputs": [],
   "source": [
    "df_paths['n_unique_chn'] = df_paths['channel'].apply(set)\n",
    "df_paths['n_unique_chn'] = df_paths['n_unique_chn'].apply(len)"
   ]
  },
  {
   "cell_type": "code",
   "execution_count": 17,
   "id": "d71c3684",
   "metadata": {},
   "outputs": [
    {
     "data": {
      "text/html": [
       "<div>\n",
       "<style scoped>\n",
       "    .dataframe tbody tr th:only-of-type {\n",
       "        vertical-align: middle;\n",
       "    }\n",
       "\n",
       "    .dataframe tbody tr th {\n",
       "        vertical-align: top;\n",
       "    }\n",
       "\n",
       "    .dataframe thead th {\n",
       "        text-align: right;\n",
       "    }\n",
       "</style>\n",
       "<table border=\"1\" class=\"dataframe\">\n",
       "  <thead>\n",
       "    <tr style=\"text-align: right;\">\n",
       "      <th></th>\n",
       "      <th>cookie</th>\n",
       "      <th>channel</th>\n",
       "      <th>time</th>\n",
       "      <th>conversion</th>\n",
       "      <th>conversion_value</th>\n",
       "      <th>journey_full_time</th>\n",
       "      <th>in_between_sessions</th>\n",
       "      <th>journey_len</th>\n",
       "      <th>avg_time_in_between</th>\n",
       "      <th>n_unique_chn</th>\n",
       "    </tr>\n",
       "  </thead>\n",
       "  <tbody>\n",
       "    <tr>\n",
       "      <th>0</th>\n",
       "      <td>40.166</td>\n",
       "      <td>[brand]</td>\n",
       "      <td>[2022-08-30 15:59:00+00:00]</td>\n",
       "      <td>0</td>\n",
       "      <td>0.000</td>\n",
       "      <td>0.000</td>\n",
       "      <td>[nan]</td>\n",
       "      <td>1</td>\n",
       "      <td>NaN</td>\n",
       "      <td>1</td>\n",
       "    </tr>\n",
       "    <tr>\n",
       "      <th>1</th>\n",
       "      <td>1585.166</td>\n",
       "      <td>[organic]</td>\n",
       "      <td>[2022-08-26 12:19:15+00:00]</td>\n",
       "      <td>0</td>\n",
       "      <td>0.000</td>\n",
       "      <td>0.000</td>\n",
       "      <td>[nan]</td>\n",
       "      <td>1</td>\n",
       "      <td>NaN</td>\n",
       "      <td>1</td>\n",
       "    </tr>\n",
       "    <tr>\n",
       "      <th>2</th>\n",
       "      <td>1701.166</td>\n",
       "      <td>[organic]</td>\n",
       "      <td>[2022-08-04 08:08:52+00:00]</td>\n",
       "      <td>0</td>\n",
       "      <td>0.000</td>\n",
       "      <td>0.000</td>\n",
       "      <td>[nan]</td>\n",
       "      <td>1</td>\n",
       "      <td>NaN</td>\n",
       "      <td>1</td>\n",
       "    </tr>\n",
       "    <tr>\n",
       "      <th>3</th>\n",
       "      <td>2560.166</td>\n",
       "      <td>[affiliates_vps]</td>\n",
       "      <td>[2022-08-18 08:06:31+00:00]</td>\n",
       "      <td>0</td>\n",
       "      <td>0.000</td>\n",
       "      <td>0.000</td>\n",
       "      <td>[nan]</td>\n",
       "      <td>1</td>\n",
       "      <td>NaN</td>\n",
       "      <td>1</td>\n",
       "    </tr>\n",
       "    <tr>\n",
       "      <th>4</th>\n",
       "      <td>2749.166</td>\n",
       "      <td>[ppc]</td>\n",
       "      <td>[2022-08-17 05:33:07+00:00]</td>\n",
       "      <td>0</td>\n",
       "      <td>0.000</td>\n",
       "      <td>0.000</td>\n",
       "      <td>[nan]</td>\n",
       "      <td>1</td>\n",
       "      <td>NaN</td>\n",
       "      <td>1</td>\n",
       "    </tr>\n",
       "    <tr>\n",
       "      <th>...</th>\n",
       "      <td>...</td>\n",
       "      <td>...</td>\n",
       "      <td>...</td>\n",
       "      <td>...</td>\n",
       "      <td>...</td>\n",
       "      <td>...</td>\n",
       "      <td>...</td>\n",
       "      <td>...</td>\n",
       "      <td>...</td>\n",
       "      <td>...</td>\n",
       "    </tr>\n",
       "    <tr>\n",
       "      <th>3007267</th>\n",
       "      <td>2147481070.166</td>\n",
       "      <td>[brand]</td>\n",
       "      <td>[2022-08-05 23:01:50+00:00]</td>\n",
       "      <td>0</td>\n",
       "      <td>0.000</td>\n",
       "      <td>0.000</td>\n",
       "      <td>[nan]</td>\n",
       "      <td>1</td>\n",
       "      <td>NaN</td>\n",
       "      <td>1</td>\n",
       "    </tr>\n",
       "    <tr>\n",
       "      <th>3007268</th>\n",
       "      <td>2147481892.166</td>\n",
       "      <td>[organic, organic, organic, organic]</td>\n",
       "      <td>[2022-08-14 12:06:46+00:00, 2022-08-14 12:11:4...</td>\n",
       "      <td>0</td>\n",
       "      <td>0.000</td>\n",
       "      <td>2928254.000</td>\n",
       "      <td>[nan, 297.0, 2736678.0, 191279.0]</td>\n",
       "      <td>4</td>\n",
       "      <td>976084.667</td>\n",
       "      <td>1</td>\n",
       "    </tr>\n",
       "    <tr>\n",
       "      <th>3007269</th>\n",
       "      <td>2147482217.166</td>\n",
       "      <td>[organic]</td>\n",
       "      <td>[2022-08-28 05:34:50+00:00]</td>\n",
       "      <td>1</td>\n",
       "      <td>59.760</td>\n",
       "      <td>0.000</td>\n",
       "      <td>[nan]</td>\n",
       "      <td>1</td>\n",
       "      <td>NaN</td>\n",
       "      <td>1</td>\n",
       "    </tr>\n",
       "    <tr>\n",
       "      <th>3007270</th>\n",
       "      <td>2147482730.166</td>\n",
       "      <td>[other, other, other, other]</td>\n",
       "      <td>[2022-08-31 17:12:27+00:00, 2022-09-01 20:10:5...</td>\n",
       "      <td>0</td>\n",
       "      <td>0.000</td>\n",
       "      <td>402984.000</td>\n",
       "      <td>[nan, 97112.0, 294240.0, 11632.0]</td>\n",
       "      <td>4</td>\n",
       "      <td>134328.000</td>\n",
       "      <td>1</td>\n",
       "    </tr>\n",
       "    <tr>\n",
       "      <th>3007271</th>\n",
       "      <td>2147483117.166</td>\n",
       "      <td>[brand]</td>\n",
       "      <td>[2022-08-25 13:57:58+00:00]</td>\n",
       "      <td>0</td>\n",
       "      <td>0.000</td>\n",
       "      <td>0.000</td>\n",
       "      <td>[nan]</td>\n",
       "      <td>1</td>\n",
       "      <td>NaN</td>\n",
       "      <td>1</td>\n",
       "    </tr>\n",
       "  </tbody>\n",
       "</table>\n",
       "<p>3007272 rows × 10 columns</p>\n",
       "</div>"
      ],
      "text/plain": [
       "                cookie                               channel  \\\n",
       "0               40.166                               [brand]   \n",
       "1             1585.166                             [organic]   \n",
       "2             1701.166                             [organic]   \n",
       "3             2560.166                      [affiliates_vps]   \n",
       "4             2749.166                                 [ppc]   \n",
       "...                ...                                   ...   \n",
       "3007267 2147481070.166                               [brand]   \n",
       "3007268 2147481892.166  [organic, organic, organic, organic]   \n",
       "3007269 2147482217.166                             [organic]   \n",
       "3007270 2147482730.166          [other, other, other, other]   \n",
       "3007271 2147483117.166                               [brand]   \n",
       "\n",
       "                                                      time  conversion  \\\n",
       "0                              [2022-08-30 15:59:00+00:00]           0   \n",
       "1                              [2022-08-26 12:19:15+00:00]           0   \n",
       "2                              [2022-08-04 08:08:52+00:00]           0   \n",
       "3                              [2022-08-18 08:06:31+00:00]           0   \n",
       "4                              [2022-08-17 05:33:07+00:00]           0   \n",
       "...                                                    ...         ...   \n",
       "3007267                        [2022-08-05 23:01:50+00:00]           0   \n",
       "3007268  [2022-08-14 12:06:46+00:00, 2022-08-14 12:11:4...           0   \n",
       "3007269                        [2022-08-28 05:34:50+00:00]           1   \n",
       "3007270  [2022-08-31 17:12:27+00:00, 2022-09-01 20:10:5...           0   \n",
       "3007271                        [2022-08-25 13:57:58+00:00]           0   \n",
       "\n",
       "         conversion_value  journey_full_time  \\\n",
       "0                   0.000              0.000   \n",
       "1                   0.000              0.000   \n",
       "2                   0.000              0.000   \n",
       "3                   0.000              0.000   \n",
       "4                   0.000              0.000   \n",
       "...                   ...                ...   \n",
       "3007267             0.000              0.000   \n",
       "3007268             0.000        2928254.000   \n",
       "3007269            59.760              0.000   \n",
       "3007270             0.000         402984.000   \n",
       "3007271             0.000              0.000   \n",
       "\n",
       "                       in_between_sessions  journey_len  avg_time_in_between  \\\n",
       "0                                    [nan]            1                  NaN   \n",
       "1                                    [nan]            1                  NaN   \n",
       "2                                    [nan]            1                  NaN   \n",
       "3                                    [nan]            1                  NaN   \n",
       "4                                    [nan]            1                  NaN   \n",
       "...                                    ...          ...                  ...   \n",
       "3007267                              [nan]            1                  NaN   \n",
       "3007268  [nan, 297.0, 2736678.0, 191279.0]            4           976084.667   \n",
       "3007269                              [nan]            1                  NaN   \n",
       "3007270  [nan, 97112.0, 294240.0, 11632.0]            4           134328.000   \n",
       "3007271                              [nan]            1                  NaN   \n",
       "\n",
       "         n_unique_chn  \n",
       "0                   1  \n",
       "1                   1  \n",
       "2                   1  \n",
       "3                   1  \n",
       "4                   1  \n",
       "...               ...  \n",
       "3007267             1  \n",
       "3007268             1  \n",
       "3007269             1  \n",
       "3007270             1  \n",
       "3007271             1  \n",
       "\n",
       "[3007272 rows x 10 columns]"
      ]
     },
     "execution_count": 17,
     "metadata": {},
     "output_type": "execute_result"
    }
   ],
   "source": [
    "df_paths"
   ]
  },
  {
   "cell_type": "code",
   "execution_count": 18,
   "id": "7274faa9",
   "metadata": {},
   "outputs": [],
   "source": [
    "unique_channels = df['channel'].unique()"
   ]
  },
  {
   "cell_type": "code",
   "execution_count": 19,
   "id": "2d80cb6b",
   "metadata": {},
   "outputs": [],
   "source": [
    "#def counter(x, chn):\n",
    "#    return x.count(chn)\n",
    "#\n",
    "#for chn in unique_channels:\n",
    "#    df_paths[chn] = df_paths['channel'].apply(counter, chn=chn)"
   ]
  },
  {
   "cell_type": "code",
   "execution_count": 21,
   "id": "6608bfad",
   "metadata": {},
   "outputs": [],
   "source": [
    "def time_from(x):\n",
    "    rez = []\n",
    "    for i in range(len(x)):\n",
    "        first = x[i]\n",
    "        last = x[-1]\n",
    "        first = datetime.strptime(first.split('+')[0], \"%Y-%m-%d %H:%M:%S\")\n",
    "        last = datetime.strptime(last.split('+')[0], \"%Y-%m-%d %H:%M:%S\")\n",
    "        rez.append((last - first).total_seconds())\n",
    "    return np.array(rez) / 3600"
   ]
  },
  {
   "cell_type": "code",
   "execution_count": 22,
   "id": "2b1170e3",
   "metadata": {},
   "outputs": [],
   "source": [
    "df_paths['decay'] = df_paths['time'].apply(time_from)"
   ]
  },
  {
   "cell_type": "code",
   "execution_count": 23,
   "id": "f46bbb2f",
   "metadata": {},
   "outputs": [
    {
     "data": {
      "text/html": [
       "<div>\n",
       "<style scoped>\n",
       "    .dataframe tbody tr th:only-of-type {\n",
       "        vertical-align: middle;\n",
       "    }\n",
       "\n",
       "    .dataframe tbody tr th {\n",
       "        vertical-align: top;\n",
       "    }\n",
       "\n",
       "    .dataframe thead th {\n",
       "        text-align: right;\n",
       "    }\n",
       "</style>\n",
       "<table border=\"1\" class=\"dataframe\">\n",
       "  <thead>\n",
       "    <tr style=\"text-align: right;\">\n",
       "      <th></th>\n",
       "      <th>cookie</th>\n",
       "      <th>channel</th>\n",
       "      <th>time</th>\n",
       "      <th>conversion</th>\n",
       "      <th>conversion_value</th>\n",
       "      <th>journey_full_time</th>\n",
       "      <th>in_between_sessions</th>\n",
       "      <th>journey_len</th>\n",
       "      <th>avg_time_in_between</th>\n",
       "      <th>n_unique_chn</th>\n",
       "      <th>decay</th>\n",
       "    </tr>\n",
       "  </thead>\n",
       "  <tbody>\n",
       "    <tr>\n",
       "      <th>0</th>\n",
       "      <td>40.166</td>\n",
       "      <td>[brand]</td>\n",
       "      <td>[2022-08-30 15:59:00+00:00]</td>\n",
       "      <td>0</td>\n",
       "      <td>0.000</td>\n",
       "      <td>0.000</td>\n",
       "      <td>[nan]</td>\n",
       "      <td>1</td>\n",
       "      <td>NaN</td>\n",
       "      <td>1</td>\n",
       "      <td>[0.0]</td>\n",
       "    </tr>\n",
       "    <tr>\n",
       "      <th>1</th>\n",
       "      <td>1585.166</td>\n",
       "      <td>[organic]</td>\n",
       "      <td>[2022-08-26 12:19:15+00:00]</td>\n",
       "      <td>0</td>\n",
       "      <td>0.000</td>\n",
       "      <td>0.000</td>\n",
       "      <td>[nan]</td>\n",
       "      <td>1</td>\n",
       "      <td>NaN</td>\n",
       "      <td>1</td>\n",
       "      <td>[0.0]</td>\n",
       "    </tr>\n",
       "    <tr>\n",
       "      <th>2</th>\n",
       "      <td>1701.166</td>\n",
       "      <td>[organic]</td>\n",
       "      <td>[2022-08-04 08:08:52+00:00]</td>\n",
       "      <td>0</td>\n",
       "      <td>0.000</td>\n",
       "      <td>0.000</td>\n",
       "      <td>[nan]</td>\n",
       "      <td>1</td>\n",
       "      <td>NaN</td>\n",
       "      <td>1</td>\n",
       "      <td>[0.0]</td>\n",
       "    </tr>\n",
       "    <tr>\n",
       "      <th>3</th>\n",
       "      <td>2560.166</td>\n",
       "      <td>[affiliates_vps]</td>\n",
       "      <td>[2022-08-18 08:06:31+00:00]</td>\n",
       "      <td>0</td>\n",
       "      <td>0.000</td>\n",
       "      <td>0.000</td>\n",
       "      <td>[nan]</td>\n",
       "      <td>1</td>\n",
       "      <td>NaN</td>\n",
       "      <td>1</td>\n",
       "      <td>[0.0]</td>\n",
       "    </tr>\n",
       "    <tr>\n",
       "      <th>4</th>\n",
       "      <td>2749.166</td>\n",
       "      <td>[ppc]</td>\n",
       "      <td>[2022-08-17 05:33:07+00:00]</td>\n",
       "      <td>0</td>\n",
       "      <td>0.000</td>\n",
       "      <td>0.000</td>\n",
       "      <td>[nan]</td>\n",
       "      <td>1</td>\n",
       "      <td>NaN</td>\n",
       "      <td>1</td>\n",
       "      <td>[0.0]</td>\n",
       "    </tr>\n",
       "    <tr>\n",
       "      <th>...</th>\n",
       "      <td>...</td>\n",
       "      <td>...</td>\n",
       "      <td>...</td>\n",
       "      <td>...</td>\n",
       "      <td>...</td>\n",
       "      <td>...</td>\n",
       "      <td>...</td>\n",
       "      <td>...</td>\n",
       "      <td>...</td>\n",
       "      <td>...</td>\n",
       "      <td>...</td>\n",
       "    </tr>\n",
       "    <tr>\n",
       "      <th>3007267</th>\n",
       "      <td>2147481070.166</td>\n",
       "      <td>[brand]</td>\n",
       "      <td>[2022-08-05 23:01:50+00:00]</td>\n",
       "      <td>0</td>\n",
       "      <td>0.000</td>\n",
       "      <td>0.000</td>\n",
       "      <td>[nan]</td>\n",
       "      <td>1</td>\n",
       "      <td>NaN</td>\n",
       "      <td>1</td>\n",
       "      <td>[0.0]</td>\n",
       "    </tr>\n",
       "    <tr>\n",
       "      <th>3007268</th>\n",
       "      <td>2147481892.166</td>\n",
       "      <td>[organic, organic, organic, organic]</td>\n",
       "      <td>[2022-08-14 12:06:46+00:00, 2022-08-14 12:11:4...</td>\n",
       "      <td>0</td>\n",
       "      <td>0.000</td>\n",
       "      <td>2928254.000</td>\n",
       "      <td>[nan, 297.0, 2736678.0, 191279.0]</td>\n",
       "      <td>4</td>\n",
       "      <td>976084.667</td>\n",
       "      <td>1</td>\n",
       "      <td>[813.4038888888889, 813.3213888888889, 53.1330...</td>\n",
       "    </tr>\n",
       "    <tr>\n",
       "      <th>3007269</th>\n",
       "      <td>2147482217.166</td>\n",
       "      <td>[organic]</td>\n",
       "      <td>[2022-08-28 05:34:50+00:00]</td>\n",
       "      <td>1</td>\n",
       "      <td>59.760</td>\n",
       "      <td>0.000</td>\n",
       "      <td>[nan]</td>\n",
       "      <td>1</td>\n",
       "      <td>NaN</td>\n",
       "      <td>1</td>\n",
       "      <td>[0.0]</td>\n",
       "    </tr>\n",
       "    <tr>\n",
       "      <th>3007270</th>\n",
       "      <td>2147482730.166</td>\n",
       "      <td>[other, other, other, other]</td>\n",
       "      <td>[2022-08-31 17:12:27+00:00, 2022-09-01 20:10:5...</td>\n",
       "      <td>0</td>\n",
       "      <td>0.000</td>\n",
       "      <td>402984.000</td>\n",
       "      <td>[nan, 97112.0, 294240.0, 11632.0]</td>\n",
       "      <td>4</td>\n",
       "      <td>134328.000</td>\n",
       "      <td>1</td>\n",
       "      <td>[111.94, 84.96444444444444, 3.2311111111111113...</td>\n",
       "    </tr>\n",
       "    <tr>\n",
       "      <th>3007271</th>\n",
       "      <td>2147483117.166</td>\n",
       "      <td>[brand]</td>\n",
       "      <td>[2022-08-25 13:57:58+00:00]</td>\n",
       "      <td>0</td>\n",
       "      <td>0.000</td>\n",
       "      <td>0.000</td>\n",
       "      <td>[nan]</td>\n",
       "      <td>1</td>\n",
       "      <td>NaN</td>\n",
       "      <td>1</td>\n",
       "      <td>[0.0]</td>\n",
       "    </tr>\n",
       "  </tbody>\n",
       "</table>\n",
       "<p>3007272 rows × 11 columns</p>\n",
       "</div>"
      ],
      "text/plain": [
       "                cookie                               channel  \\\n",
       "0               40.166                               [brand]   \n",
       "1             1585.166                             [organic]   \n",
       "2             1701.166                             [organic]   \n",
       "3             2560.166                      [affiliates_vps]   \n",
       "4             2749.166                                 [ppc]   \n",
       "...                ...                                   ...   \n",
       "3007267 2147481070.166                               [brand]   \n",
       "3007268 2147481892.166  [organic, organic, organic, organic]   \n",
       "3007269 2147482217.166                             [organic]   \n",
       "3007270 2147482730.166          [other, other, other, other]   \n",
       "3007271 2147483117.166                               [brand]   \n",
       "\n",
       "                                                      time  conversion  \\\n",
       "0                              [2022-08-30 15:59:00+00:00]           0   \n",
       "1                              [2022-08-26 12:19:15+00:00]           0   \n",
       "2                              [2022-08-04 08:08:52+00:00]           0   \n",
       "3                              [2022-08-18 08:06:31+00:00]           0   \n",
       "4                              [2022-08-17 05:33:07+00:00]           0   \n",
       "...                                                    ...         ...   \n",
       "3007267                        [2022-08-05 23:01:50+00:00]           0   \n",
       "3007268  [2022-08-14 12:06:46+00:00, 2022-08-14 12:11:4...           0   \n",
       "3007269                        [2022-08-28 05:34:50+00:00]           1   \n",
       "3007270  [2022-08-31 17:12:27+00:00, 2022-09-01 20:10:5...           0   \n",
       "3007271                        [2022-08-25 13:57:58+00:00]           0   \n",
       "\n",
       "         conversion_value  journey_full_time  \\\n",
       "0                   0.000              0.000   \n",
       "1                   0.000              0.000   \n",
       "2                   0.000              0.000   \n",
       "3                   0.000              0.000   \n",
       "4                   0.000              0.000   \n",
       "...                   ...                ...   \n",
       "3007267             0.000              0.000   \n",
       "3007268             0.000        2928254.000   \n",
       "3007269            59.760              0.000   \n",
       "3007270             0.000         402984.000   \n",
       "3007271             0.000              0.000   \n",
       "\n",
       "                       in_between_sessions  journey_len  avg_time_in_between  \\\n",
       "0                                    [nan]            1                  NaN   \n",
       "1                                    [nan]            1                  NaN   \n",
       "2                                    [nan]            1                  NaN   \n",
       "3                                    [nan]            1                  NaN   \n",
       "4                                    [nan]            1                  NaN   \n",
       "...                                    ...          ...                  ...   \n",
       "3007267                              [nan]            1                  NaN   \n",
       "3007268  [nan, 297.0, 2736678.0, 191279.0]            4           976084.667   \n",
       "3007269                              [nan]            1                  NaN   \n",
       "3007270  [nan, 97112.0, 294240.0, 11632.0]            4           134328.000   \n",
       "3007271                              [nan]            1                  NaN   \n",
       "\n",
       "         n_unique_chn                                              decay  \n",
       "0                   1                                              [0.0]  \n",
       "1                   1                                              [0.0]  \n",
       "2                   1                                              [0.0]  \n",
       "3                   1                                              [0.0]  \n",
       "4                   1                                              [0.0]  \n",
       "...               ...                                                ...  \n",
       "3007267             1                                              [0.0]  \n",
       "3007268             1  [813.4038888888889, 813.3213888888889, 53.1330...  \n",
       "3007269             1                                              [0.0]  \n",
       "3007270             1  [111.94, 84.96444444444444, 3.2311111111111113...  \n",
       "3007271             1                                              [0.0]  \n",
       "\n",
       "[3007272 rows x 11 columns]"
      ]
     },
     "execution_count": 23,
     "metadata": {},
     "output_type": "execute_result"
    }
   ],
   "source": [
    "df_paths"
   ]
  },
  {
   "cell_type": "code",
   "execution_count": 24,
   "id": "f6242a6d",
   "metadata": {},
   "outputs": [],
   "source": [
    "prep_df = df_paths[['cookie', 'channel']]"
   ]
  },
  {
   "cell_type": "code",
   "execution_count": 25,
   "id": "701c7095",
   "metadata": {},
   "outputs": [],
   "source": [
    "prep_df['conversion'] = df_paths['conversion']"
   ]
  },
  {
   "cell_type": "code",
   "execution_count": 26,
   "id": "81a3fe01",
   "metadata": {},
   "outputs": [],
   "source": [
    "prep_df['conversion_value'] = df_paths['conversion_value']"
   ]
  },
  {
   "cell_type": "code",
   "execution_count": 27,
   "id": "3240d7b3",
   "metadata": {},
   "outputs": [],
   "source": [
    "prep_df['time_till_conv_agg'] = df_paths['decay']"
   ]
  },
  {
   "cell_type": "code",
   "execution_count": 35,
   "id": "a7406cdd",
   "metadata": {},
   "outputs": [],
   "source": [
    "prep_df['cookie'] = prep_df['cookie'].astype(str)"
   ]
  },
  {
   "cell_type": "code",
   "execution_count": 37,
   "id": "792a1574",
   "metadata": {},
   "outputs": [
    {
     "data": {
      "text/html": [
       "<div>\n",
       "<style scoped>\n",
       "    .dataframe tbody tr th:only-of-type {\n",
       "        vertical-align: middle;\n",
       "    }\n",
       "\n",
       "    .dataframe tbody tr th {\n",
       "        vertical-align: top;\n",
       "    }\n",
       "\n",
       "    .dataframe thead th {\n",
       "        text-align: right;\n",
       "    }\n",
       "</style>\n",
       "<table border=\"1\" class=\"dataframe\">\n",
       "  <thead>\n",
       "    <tr style=\"text-align: right;\">\n",
       "      <th></th>\n",
       "      <th>journey_id</th>\n",
       "      <th>channels_agg</th>\n",
       "      <th>converted_agg</th>\n",
       "      <th>conversion_value</th>\n",
       "      <th>time_till_conv_agg</th>\n",
       "    </tr>\n",
       "  </thead>\n",
       "  <tbody>\n",
       "    <tr>\n",
       "      <th>0</th>\n",
       "      <td>40.1661875141</td>\n",
       "      <td>brand</td>\n",
       "      <td>False</td>\n",
       "      <td>0.000</td>\n",
       "      <td>0.0</td>\n",
       "    </tr>\n",
       "    <tr>\n",
       "      <th>1</th>\n",
       "      <td>1585.1661516338</td>\n",
       "      <td>organic</td>\n",
       "      <td>False</td>\n",
       "      <td>0.000</td>\n",
       "      <td>0.0</td>\n",
       "    </tr>\n",
       "    <tr>\n",
       "      <th>2</th>\n",
       "      <td>1701.1659600532</td>\n",
       "      <td>organic</td>\n",
       "      <td>False</td>\n",
       "      <td>0.000</td>\n",
       "      <td>0.0</td>\n",
       "    </tr>\n",
       "    <tr>\n",
       "      <th>3</th>\n",
       "      <td>2560.1660809988</td>\n",
       "      <td>affiliates_vps</td>\n",
       "      <td>False</td>\n",
       "      <td>0.000</td>\n",
       "      <td>0.0</td>\n",
       "    </tr>\n",
       "    <tr>\n",
       "      <th>4</th>\n",
       "      <td>2749.1660714377</td>\n",
       "      <td>ppc</td>\n",
       "      <td>False</td>\n",
       "      <td>0.000</td>\n",
       "      <td>0.0</td>\n",
       "    </tr>\n",
       "    <tr>\n",
       "      <th>...</th>\n",
       "      <td>...</td>\n",
       "      <td>...</td>\n",
       "      <td>...</td>\n",
       "      <td>...</td>\n",
       "      <td>...</td>\n",
       "    </tr>\n",
       "    <tr>\n",
       "      <th>3007267</th>\n",
       "      <td>2147481070.165974</td>\n",
       "      <td>brand</td>\n",
       "      <td>False</td>\n",
       "      <td>0.000</td>\n",
       "      <td>0.0</td>\n",
       "    </tr>\n",
       "    <tr>\n",
       "      <th>3007268</th>\n",
       "      <td>2147481892.166048</td>\n",
       "      <td>organic &gt; organic &gt; organic &gt; organic</td>\n",
       "      <td>False</td>\n",
       "      <td>0.000</td>\n",
       "      <td>813.4038888888889 &gt; 813.3213888888889 &gt; 53.133...</td>\n",
       "    </tr>\n",
       "    <tr>\n",
       "      <th>3007269</th>\n",
       "      <td>2147482217.1661663</td>\n",
       "      <td>organic</td>\n",
       "      <td>True</td>\n",
       "      <td>59.760</td>\n",
       "      <td>0.0</td>\n",
       "    </tr>\n",
       "    <tr>\n",
       "      <th>3007270</th>\n",
       "      <td>2147482730.1661963</td>\n",
       "      <td>other &gt; other &gt; other &gt; other</td>\n",
       "      <td>False</td>\n",
       "      <td>0.000</td>\n",
       "      <td>111.94 &gt; 84.96444444444444 &gt; 3.231111111111111...</td>\n",
       "    </tr>\n",
       "    <tr>\n",
       "      <th>3007271</th>\n",
       "      <td>2147483117.1661437</td>\n",
       "      <td>brand</td>\n",
       "      <td>False</td>\n",
       "      <td>0.000</td>\n",
       "      <td>0.0</td>\n",
       "    </tr>\n",
       "  </tbody>\n",
       "</table>\n",
       "<p>3007272 rows × 5 columns</p>\n",
       "</div>"
      ],
      "text/plain": [
       "                 journey_id                           channels_agg  \\\n",
       "0             40.1661875141                                  brand   \n",
       "1           1585.1661516338                                organic   \n",
       "2           1701.1659600532                                organic   \n",
       "3           2560.1660809988                         affiliates_vps   \n",
       "4           2749.1660714377                                    ppc   \n",
       "...                     ...                                    ...   \n",
       "3007267   2147481070.165974                                  brand   \n",
       "3007268   2147481892.166048  organic > organic > organic > organic   \n",
       "3007269  2147482217.1661663                                organic   \n",
       "3007270  2147482730.1661963          other > other > other > other   \n",
       "3007271  2147483117.1661437                                  brand   \n",
       "\n",
       "         converted_agg  conversion_value  \\\n",
       "0                False             0.000   \n",
       "1                False             0.000   \n",
       "2                False             0.000   \n",
       "3                False             0.000   \n",
       "4                False             0.000   \n",
       "...                ...               ...   \n",
       "3007267          False             0.000   \n",
       "3007268          False             0.000   \n",
       "3007269           True            59.760   \n",
       "3007270          False             0.000   \n",
       "3007271          False             0.000   \n",
       "\n",
       "                                        time_till_conv_agg  \n",
       "0                                                      0.0  \n",
       "1                                                      0.0  \n",
       "2                                                      0.0  \n",
       "3                                                      0.0  \n",
       "4                                                      0.0  \n",
       "...                                                    ...  \n",
       "3007267                                                0.0  \n",
       "3007268  813.4038888888889 > 813.3213888888889 > 53.133...  \n",
       "3007269                                                0.0  \n",
       "3007270  111.94 > 84.96444444444444 > 3.231111111111111...  \n",
       "3007271                                                0.0  \n",
       "\n",
       "[3007272 rows x 5 columns]"
      ]
     },
     "execution_count": 37,
     "metadata": {},
     "output_type": "execute_result"
    }
   ],
   "source": [
    "prep_df"
   ]
  },
  {
   "cell_type": "code",
   "execution_count": 30,
   "id": "07b70510",
   "metadata": {},
   "outputs": [],
   "source": [
    "def joiner(x):\n",
    "    return ' > '.join(str(v) for v in x)\n",
    "prep_df['channel'] = prep_df['channel'].apply(joiner)\n",
    "prep_df['time_till_conv_agg'] = prep_df['time_till_conv_agg'].apply(list).apply(joiner)"
   ]
  },
  {
   "cell_type": "code",
   "execution_count": 31,
   "id": "17147293",
   "metadata": {},
   "outputs": [],
   "source": [
    "prep_df['conversion'] = prep_df['conversion'].astype(bool)\n"
   ]
  },
  {
   "cell_type": "code",
   "execution_count": 32,
   "id": "cbb52999",
   "metadata": {},
   "outputs": [],
   "source": [
    "prep_df.columns = ['journey_id', 'channels_agg', 'converted_agg', 'conversion_value',\n",
    "       'time_till_conv_agg']"
   ]
  },
  {
   "cell_type": "code",
   "execution_count": null,
   "id": "24676b43",
   "metadata": {},
   "outputs": [],
   "source": []
  },
  {
   "cell_type": "code",
   "execution_count": null,
   "id": "27ee74aa",
   "metadata": {},
   "outputs": [],
   "source": []
  },
  {
   "cell_type": "code",
   "execution_count": null,
   "id": "ee7c2fa5",
   "metadata": {},
   "outputs": [],
   "source": []
  },
  {
   "cell_type": "code",
   "execution_count": null,
   "id": "71691a21",
   "metadata": {},
   "outputs": [],
   "source": []
  },
  {
   "cell_type": "code",
   "execution_count": 45,
   "id": "dd14c74e",
   "metadata": {},
   "outputs": [],
   "source": [
    "from marketing_attribution_models import MAM"
   ]
  },
  {
   "cell_type": "code",
   "execution_count": 46,
   "id": "4276047f",
   "metadata": {},
   "outputs": [],
   "source": [
    "attributions = MAM(prep_df, time_till_conv_colname='time_till_conv_agg', conversion_value='conversion_value', channels_colname='channels_agg', journey_with_conv_colname='converted_agg')"
   ]
  },
  {
   "cell_type": "code",
   "execution_count": 48,
   "id": "15af9c6e",
   "metadata": {},
   "outputs": [],
   "source": [
    "results = attributions.attribution_all_models()"
   ]
  },
  {
   "cell_type": "code",
   "execution_count": 62,
   "id": "91167dcb",
   "metadata": {},
   "outputs": [
    {
     "data": {
      "text/plain": [
       "<matplotlib.legend.Legend at 0x20a6053fbb0>"
      ]
     },
     "execution_count": 62,
     "metadata": {},
     "output_type": "execute_result"
    },
    {
     "data": {
      "image/png": "[encoded data removed]",
      "text/plain": [
       "<Figure size 2000x700 with 1 Axes>"
      ]
     },
     "metadata": {},
     "output_type": "display_data"
    }
   ],
   "source": [
    "fig = attributions.plot()\n",
    "plt.legend(loc = \"upper right\")\n"
   ]
  },
  {
   "cell_type": "code",
   "execution_count": 59,
   "id": "4f208f9d",
   "metadata": {},
   "outputs": [],
   "source": [
    "results.to_csv('attributions.csv')"
   ]
  },
  {
   "cell_type": "code",
   "execution_count": null,
   "id": "8a1db357",
   "metadata": {},
   "outputs": [],
   "source": []
  },
  {
   "cell_type": "code",
   "execution_count": null,
   "id": "998e1ce7",
   "metadata": {},
   "outputs": [],
   "source": []
  },
  {
   "cell_type": "code",
   "execution_count": null,
   "id": "6cba4612",
   "metadata": {},
   "outputs": [],
   "source": []
  },
  {
   "cell_type": "code",
   "execution_count": null,
   "id": "b98c7b84",
   "metadata": {},
   "outputs": [],
   "source": []
  },
  {
   "cell_type": "code",
   "execution_count": null,
   "id": "ec33e7f3",
   "metadata": {},
   "outputs": [],
   "source": []
  },
  {
   "cell_type": "code",
   "execution_count": null,
   "id": "9f61e38e",
   "metadata": {},
   "outputs": [],
   "source": []
  },
  {
   "cell_type": "code",
   "execution_count": null,
   "id": "ffd93a06",
   "metadata": {},
   "outputs": [],
   "source": []
  },
  {
   "cell_type": "code",
   "execution_count": null,
   "id": "8b7a7e11",
   "metadata": {},
   "outputs": [],
   "source": []
  },
  {
   "cell_type": "code",
   "execution_count": null,
   "id": "97178ecd",
   "metadata": {},
   "outputs": [],
   "source": []
  },
  {
   "cell_type": "code",
   "execution_count": null,
   "id": "9750b61c",
   "metadata": {},
   "outputs": [],
   "source": []
  },
  {
   "cell_type": "code",
   "execution_count": null,
   "id": "29bb89e7",
   "metadata": {},
   "outputs": [],
   "source": []
  },
  {
   "cell_type": "code",
   "execution_count": null,
   "id": "36aa4e3c",
   "metadata": {},
   "outputs": [],
   "source": []
  },
  {
   "cell_type": "code",
   "execution_count": null,
   "id": "8faebe97",
   "metadata": {},
   "outputs": [],
   "source": []
  },
  {
   "cell_type": "code",
   "execution_count": null,
   "id": "eb123db4",
   "metadata": {},
   "outputs": [],
   "source": []
  },
  {
   "cell_type": "code",
   "execution_count": null,
   "id": "1cae8bf3",
   "metadata": {},
   "outputs": [],
   "source": []
  },
  {
   "cell_type": "code",
   "execution_count": null,
   "id": "0a5d3420",
   "metadata": {},
   "outputs": [],
   "source": []
  },
  {
   "cell_type": "code",
   "execution_count": null,
   "id": "92a44b10",
   "metadata": {},
   "outputs": [],
   "source": []
  },
  {
   "cell_type": "code",
   "execution_count": null,
   "id": "ac60f418",
   "metadata": {},
   "outputs": [],
   "source": []
  },
  {
   "cell_type": "code",
   "execution_count": null,
   "id": "29dd338a",
   "metadata": {},
   "outputs": [],
   "source": []
  },
  {
   "cell_type": "code",
   "execution_count": null,
   "id": "14b09343",
   "metadata": {},
   "outputs": [],
   "source": []
  },
  {
   "cell_type": "code",
   "execution_count": null,
   "id": "2552da2e",
   "metadata": {},
   "outputs": [],
   "source": []
  },
  {
   "cell_type": "code",
   "execution_count": null,
   "id": "8cff7849",
   "metadata": {},
   "outputs": [],
   "source": []
  },
  {
   "cell_type": "code",
   "execution_count": null,
   "id": "c3f8ab0f",
   "metadata": {},
   "outputs": [],
   "source": []
  },
  {
   "cell_type": "code",
   "execution_count": null,
   "id": "3d30ae9b",
   "metadata": {},
   "outputs": [],
   "source": []
  },
  {
   "cell_type": "code",
   "execution_count": 9,
   "id": "0d831d23",
   "metadata": {},
   "outputs": [],
   "source": [
    "def start(x):\n",
    "    x.insert(0, 'Start')\n",
    "    return x\n",
    "df_paths['path'] = df_paths['path'].apply(start)"
   ]
  },
  {
   "cell_type": "code",
   "execution_count": 10,
   "id": "192f97f1",
   "metadata": {},
   "outputs": [],
   "source": [
    "def conv(x):\n",
    "    x.append('Conversion')\n",
    "    return x\n",
    "\n",
    "def non_conv(x):\n",
    "    x.append('Null')\n",
    "    return x"
   ]
  },
  {
   "cell_type": "code",
   "execution_count": 34,
   "id": "13edb965",
   "metadata": {},
   "outputs": [],
   "source": [
    "df_paths['conversion'] = df.drop_duplicates(subset=['cookie'], keep='last').set_index('cookie', drop=True)['conversion'][df_paths['cookie']].values\n",
    "df_paths['conversion_value'] = df.drop_duplicates(subset=['cookie'], keep='last').set_index('cookie', drop=True)['conversion_value'][df_paths['cookie']].values"
   ]
  },
  {
   "cell_type": "code",
   "execution_count": 12,
   "id": "7e108464",
   "metadata": {},
   "outputs": [],
   "source": [
    "df_paths = df_paths[['cookie', 'path', 'conversion']]"
   ]
  },
  {
   "cell_type": "code",
   "execution_count": 13,
   "id": "016b0662",
   "metadata": {},
   "outputs": [],
   "source": [
    "df_paths[df_paths['conversion'] == 0]['path'] = df_paths[df_paths['conversion'] == 0]['path'].apply(non_conv)"
   ]
  },
  {
   "cell_type": "code",
   "execution_count": 14,
   "id": "c34e2dcf",
   "metadata": {},
   "outputs": [],
   "source": [
    "df_paths[df_paths['conversion'] == 1]['path'] = df_paths[df_paths['conversion'] == 1]['path'].apply(conv)"
   ]
  },
  {
   "cell_type": "code",
   "execution_count": null,
   "id": "1e0b2573",
   "metadata": {},
   "outputs": [],
   "source": [
    "# Upsampling, seems like not really worth it\n",
    "#df_paths['conversion_value'] = (df_paths['conversion_value'] / 10).apply(round)\n",
    "#df_paths['conversion_value'][df_paths['conversion_value'] == 0] = 1\n",
    "#df_paths = df_paths.loc[df_paths.index.repeat(df_paths['conversion_value'])]"
   ]
  },
  {
   "cell_type": "code",
   "execution_count": 16,
   "id": "a66bb5f4",
   "metadata": {},
   "outputs": [],
   "source": [
    "list_of_paths = df_paths['path']\n",
    "total_conversions = sum(path.count('Conversion') for path in df_paths['path'].tolist())\n",
    "base_conversion_rate = total_conversions / len(list_of_paths)"
   ]
  },
  {
   "cell_type": "code",
   "execution_count": 17,
   "id": "a299da52",
   "metadata": {},
   "outputs": [],
   "source": [
    "def transition_states(list_of_paths):\n",
    "    list_of_unique_channels = set(x for element in list_of_paths for x in element)\n",
    "    transition_states = {x + '>' + y: 0 for x in list_of_unique_channels for y in list_of_unique_channels}\n",
    "\n",
    "    for possible_state in list_of_unique_channels:\n",
    "        if possible_state not in ['Conversion', 'Null']:\n",
    "            for user_path in list_of_paths:\n",
    "                if possible_state in user_path:\n",
    "                    indices = [i for i, s in enumerate(user_path) if possible_state in s]\n",
    "                    for col in indices:\n",
    "                        transition_states[user_path[col] + '>' + user_path[col + 1]] += 1\n",
    "\n",
    "    return transition_states\n",
    "\n",
    "\n",
    "trans_states = transition_states(list_of_paths)"
   ]
  },
  {
   "cell_type": "code",
   "execution_count": 18,
   "id": "8458c6e9",
   "metadata": {},
   "outputs": [],
   "source": [
    "def transition_prob(trans_dict):\n",
    "    list_of_unique_channels = set(x for element in list_of_paths for x in element)\n",
    "    trans_prob = defaultdict(dict)\n",
    "    for state in list_of_unique_channels:\n",
    "        if state not in ['Conversion', 'Null']:\n",
    "            counter = 0\n",
    "            index = [i for i, s in enumerate(trans_dict) if state + '>' in s]\n",
    "            for col in index:\n",
    "                if trans_dict[list(trans_dict)[col]] > 0:\n",
    "                    counter += trans_dict[list(trans_dict)[col]]\n",
    "            for col in index:\n",
    "                if trans_dict[list(trans_dict)[col]] > 0:\n",
    "                    state_prob = float((trans_dict[list(trans_dict)[col]])) / float(counter)\n",
    "                    trans_prob[list(trans_dict)[col]] = state_prob\n",
    "\n",
    "    return trans_prob\n",
    "\n",
    "\n",
    "trans_prob = transition_prob(trans_states)"
   ]
  },
  {
   "cell_type": "code",
   "execution_count": 19,
   "id": "ea6abf7f",
   "metadata": {},
   "outputs": [],
   "source": [
    "def transition_matrix(list_of_paths, transition_probabilities):\n",
    "    trans_matrix = pd.DataFrame()\n",
    "    list_of_unique_channels = set(x for element in list_of_paths for x in element)\n",
    "\n",
    "    for channel in list_of_unique_channels:\n",
    "        trans_matrix[channel] = 0.00\n",
    "        trans_matrix.loc[channel] = 0.00\n",
    "        trans_matrix.loc[channel][channel] = 1.0 if channel in ['Conversion', 'Null'] else 0.0\n",
    "\n",
    "    for key, value in transition_probabilities.items():\n",
    "        origin, destination = key.split('>')\n",
    "        trans_matrix.at[origin, destination] = value\n",
    "\n",
    "    return trans_matrix\n",
    "\n",
    "\n",
    "trans_matrix = transition_matrix(list_of_paths, trans_prob)"
   ]
  },
  {
   "cell_type": "code",
   "execution_count": 20,
   "id": "928463d8",
   "metadata": {},
   "outputs": [],
   "source": [
    "def removal_effects(df, conversion_rate):\n",
    "    removal_effects_dict = {}\n",
    "    channels = [channel for channel in df.columns if channel not in ['Start',\n",
    "                                                                     'Null',\n",
    "                                                                     'Conversion']]\n",
    "    for channel in channels:\n",
    "        removal_df = df.drop(channel, axis=1).drop(channel, axis=0)\n",
    "        for column in removal_df.columns:\n",
    "            row_sum = np.sum(list(removal_df.loc[column]))\n",
    "            null_pct = float(1) - row_sum\n",
    "            if null_pct != 0:\n",
    "                removal_df.loc[column]['Null'] = null_pct\n",
    "            removal_df.loc['Null']['Null'] = 1.0\n",
    "\n",
    "        removal_to_conv = removal_df[\n",
    "            ['Null', 'Conversion']].drop(['Null', 'Conversion'], axis=0)\n",
    "        removal_to_non_conv = removal_df.drop(\n",
    "            ['Null', 'Conversion'], axis=1).drop(['Null', 'Conversion'], axis=0)\n",
    "\n",
    "        removal_inv_diff = np.linalg.inv(\n",
    "            np.identity(\n",
    "                len(removal_to_non_conv.columns)) - np.asarray(removal_to_non_conv))\n",
    "        removal_dot_prod = np.dot(removal_inv_diff, np.asarray(removal_to_conv))\n",
    "        removal_cvr = pd.DataFrame(removal_dot_prod,\n",
    "                                   index=removal_to_conv.index)[[1]].loc['Start'].values[0]\n",
    "        removal_effect = 1 - removal_cvr / conversion_rate\n",
    "        removal_effects_dict[channel] = removal_effect\n",
    "\n",
    "    return removal_effects_dict\n",
    "\n",
    "\n",
    "removal_effects_dict = removal_effects(trans_matrix, base_conversion_rate)"
   ]
  },
  {
   "cell_type": "code",
   "execution_count": 21,
   "id": "bb9466fc",
   "metadata": {},
   "outputs": [],
   "source": [
    "def markov_chain_allocations(removal_effects, total_conversions):\n",
    "    re_sum = np.sum(list(removal_effects.values()))\n",
    "\n",
    "    return {k: (v / re_sum) * total_conversions for k, v in removal_effects.items()}\n",
    "\n",
    "\n",
    "attributions = markov_chain_allocations(removal_effects_dict, 100)\n",
    "attributions"
   ]
  },
  {
   "cell_type": "code",
   "execution_count": 24,
   "id": "bb668bd1",
   "metadata": {},
   "outputs": [],
   "source": [
    "rdf = df.drop_duplicates(subset=['cookie'], keep='last')"
   ]
  },
  {
   "cell_type": "code",
   "execution_count": 25,
   "id": "e8511c68",
   "metadata": {},
   "outputs": [
    {
     "data": {
      "text/plain": [
       "<seaborn.axisgrid.FacetGrid at 0x1f5c68934f0>"
      ]
     },
     "execution_count": 25,
     "metadata": {},
     "output_type": "execute_result"
    },
    {
     "data": {
      "image/png": "[encoded data removed]",
      "text/plain": [
       "<Figure size 500x500 with 1 Axes>"
      ]
     },
     "metadata": {},
     "output_type": "display_data"
    }
   ],
   "source": [
    "import seaborn as sns\n",
    "rdf = rdf[rdf['conversion_value'] != 0]\n",
    "sns.displot(rdf['conversion_value'])"
   ]
  },
  {
   "cell_type": "code",
   "execution_count": 49,
   "id": "880f4695",
   "metadata": {},
   "outputs": [
    {
     "data": {
      "text/plain": [
       "<AxesSubplot:xlabel='conversion_value', ylabel='Count'>"
      ]
     },
     "execution_count": 49,
     "metadata": {},
     "output_type": "execute_result"
    },
    {
     "data": {
      "image/png": "[encoded data removed]",
      "text/plain": [
       "<Figure size 640x480 with 1 Axes>"
      ]
     },
     "metadata": {},
     "output_type": "display_data"
    }
   ],
   "source": [
    "sns.histplot(rdf['conversion_value'], bins=30)"
   ]
  },
  {
   "cell_type": "code",
   "execution_count": 27,
   "id": "be485a67",
   "metadata": {},
   "outputs": [
    {
     "data": {
      "text/plain": [
       "{'influencers': 1029014.1498786495,\n",
       " 'webutation': 319383.5625096834,\n",
       " 'mobile_android': 35781.62174334855,\n",
       " 'other': 132315.6980633989,\n",
       " 'affiliates_vps': 223029.55172438003,\n",
       " 'mobile_ios': 48852.99555003848,\n",
       " 'affiliates_nonvps': 1390742.0572385634,\n",
       " 'brand': 1195833.7510660696,\n",
       " 'ppc': 235868.91150476682,\n",
       " 'mobile_amazon': 2019.0247498498425,\n",
       " 'organic': 727270.6759712524}"
      ]
     },
     "execution_count": 27,
     "metadata": {},
     "output_type": "execute_result"
    }
   ],
   "source": [
    "attributions = markov_chain_allocations(removal_effects_dict, 5340112)\n",
    "attributions"
   ]
  },
  {
   "cell_type": "code",
   "execution_count": 93,
   "id": "5d6686c7",
   "metadata": {},
   "outputs": [],
   "source": []
  },
  {
   "cell_type": "code",
   "execution_count": 116,
   "id": "fda2c2b4",
   "metadata": {},
   "outputs": [
    {
     "data": {
      "text/plain": [
       "'111.94>84.96444444444444>3.2311111111111113>0.0'"
      ]
     },
     "execution_count": 116,
     "metadata": {},
     "output_type": "execute_result"
    }
   ],
   "source": [
    "'>'.join(str(v) for v in prep_df['time_till_conv_agg'][3007270])"
   ]
  },
  {
   "cell_type": "code",
   "execution_count": null,
   "id": "356be05e",
   "metadata": {},
   "outputs": [],
   "source": []
  }
 ],
 "metadata": {
  "kernelspec": {
   "display_name": "Python 3 (ipykernel)",
   "language": "python",
   "name": "python3"
  },
  "language_info": {
   "codemirror_mode": {
    "name": "ipython",
    "version": 3
   },
   "file_extension": ".py",
   "mimetype": "text/x-python",
   "name": "python",
   "nbconvert_exporter": "python",
   "pygments_lexer": "ipython3",
   "version": "3.9.13"
  }
 },
 "nbformat": 4,
 "nbformat_minor": 5
}
