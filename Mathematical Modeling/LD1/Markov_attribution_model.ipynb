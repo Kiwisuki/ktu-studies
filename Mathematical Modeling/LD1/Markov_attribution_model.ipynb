{
 "cells": [
  {
   "cell_type": "code",
   "execution_count": 1,
   "id": "e86aaf5b",
   "metadata": {},
   "outputs": [],
   "source": [
    "import numpy as np\n",
    "import pandas as pd"
   ]
  },
  {
   "cell_type": "code",
   "execution_count": 2,
   "id": "860032ad",
   "metadata": {},
   "outputs": [
    {
     "data": {
      "text/plain": [
       "{0: 'Null',\n",
       " 1: 'Youtube ads',\n",
       " 2: 'Facebook ads',\n",
       " 3: 'Instagram influencers',\n",
       " 4: 'Conversion'}"
      ]
     },
     "execution_count": 2,
     "metadata": {},
     "output_type": "execute_result"
    }
   ],
   "source": [
    "state = {\n",
    "    0 : \"Null\",\n",
    "    1 : \"Youtube ads\",\n",
    "    2 : \"Facebook ads\",\n",
    "    3 : 'Instagram influencers',\n",
    "    4 : 'Conversion'\n",
    "}\n",
    "state"
   ]
  },
  {
   "cell_type": "code",
   "execution_count": 3,
   "id": "890d1b65",
   "metadata": {},
   "outputs": [
    {
     "data": {
      "text/plain": [
       "array([[1.   , 0.   , 0.   , 0.   , 0.   ],\n",
       "       [0.233, 0.   , 0.349, 0.407, 0.011],\n",
       "       [0.195, 0.367, 0.   , 0.428, 0.01 ],\n",
       "       [0.263, 0.351, 0.351, 0.   , 0.035],\n",
       "       [0.   , 0.   , 0.   , 0.   , 1.   ]])"
      ]
     },
     "execution_count": 3,
     "metadata": {},
     "output_type": "execute_result"
    }
   ],
   "source": [
    "A = np.array([[1, 0, 0, 0, 0], [0.233, 0, 0.349, 0.407, 0.011], [0.195, 0.367, 0, 0.428, 0.010], [0.263, 0.351, 0.351, 0, 0.035], [0, 0, 0, 0, 1]])\n",
    "A"
   ]
  },
  {
   "cell_type": "code",
   "execution_count": 4,
   "id": "13c32928",
   "metadata": {},
   "outputs": [],
   "source": [
    "def gen_journey():\n",
    "    start_state = np.random.choice([1, 2, 3])\n",
    "    journey = [\"Start\", state[start_state]]\n",
    "    curr_state = start_state\n",
    "    while state[curr_state] not in [\"Null\", \"Conversion\"]:\n",
    "        curr_state = np.random.choice([0, 1, 2, 3, 4], p=A[curr_state])\n",
    "        journey.append(state[curr_state])\n",
    "    return journey"
   ]
  },
  {
   "cell_type": "code",
   "execution_count": 5,
   "id": "4961b87d",
   "metadata": {},
   "outputs": [],
   "source": [
    "journeys = [gen_journey() for i in range(10000)]"
   ]
  },
  {
   "cell_type": "code",
   "execution_count": 6,
   "id": "75aa22ad",
   "metadata": {},
   "outputs": [],
   "source": [
    "df = pd.DataFrame()"
   ]
  },
  {
   "cell_type": "code",
   "execution_count": 7,
   "id": "6a7aab50",
   "metadata": {},
   "outputs": [],
   "source": [
    "df['Journeys'] = journeys"
   ]
  },
  {
   "cell_type": "code",
   "execution_count": 8,
   "id": "5c80bb73",
   "metadata": {},
   "outputs": [],
   "source": [
    "def conv(x):\n",
    "    j = x[-1]\n",
    "    if j == 'Null':\n",
    "        return 0\n",
    "    elif j == 'Conversion':\n",
    "        return 1"
   ]
  },
  {
   "cell_type": "code",
   "execution_count": 9,
   "id": "aa17bdeb",
   "metadata": {},
   "outputs": [],
   "source": [
    "df['Conversion_value'] = df['Journeys'].apply(conv)"
   ]
  },
  {
   "cell_type": "code",
   "execution_count": 10,
   "id": "d1dfb27b",
   "metadata": {},
   "outputs": [],
   "source": [
    "df.to_csv('journeys.csv', index=False)"
   ]
  },
  {
   "cell_type": "code",
   "execution_count": null,
   "id": "1e879309",
   "metadata": {},
   "outputs": [],
   "source": []
  }
 ],
 "metadata": {
  "kernelspec": {
   "display_name": "Python 3 (ipykernel)",
   "language": "python",
   "name": "python3"
  },
  "language_info": {
   "codemirror_mode": {
    "name": "ipython",
    "version": 3
   },
   "file_extension": ".py",
   "mimetype": "text/x-python",
   "name": "python",
   "nbconvert_exporter": "python",
   "pygments_lexer": "ipython3",
   "version": "3.9.13"
  }
 },
 "nbformat": 4,
 "nbformat_minor": 5
}
