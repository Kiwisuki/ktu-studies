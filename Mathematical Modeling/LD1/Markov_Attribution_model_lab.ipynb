{
 "cells": [
  {
   "cell_type": "code",
   "execution_count": 1,
   "id": "3d48cf06",
   "metadata": {},
   "outputs": [],
   "source": [
    "import pandas as pd\n",
    "import numpy as np\n",
    "from collections import defaultdict"
   ]
  },
  {
   "cell_type": "code",
   "execution_count": 2,
   "id": "320ba0f7",
   "metadata": {},
   "outputs": [],
   "source": [
    "df = pd.read_csv('journeys.csv')"
   ]
  },
  {
   "cell_type": "code",
   "execution_count": 3,
   "id": "765d580a",
   "metadata": {},
   "outputs": [],
   "source": [
    "df['Journeys'] = df['Journeys'].apply(lambda x: eval(x))"
   ]
  },
  {
   "cell_type": "code",
   "execution_count": 4,
   "id": "8d4c45a1",
   "metadata": {},
   "outputs": [],
   "source": [
    "list_of_paths = df['Journeys']\n",
    "total_conversions = df['Conversion_value'].sum()\n",
    "base_conversion_rate = total_conversions / len(list_of_paths)"
   ]
  },
  {
   "cell_type": "code",
   "execution_count": 5,
   "id": "1ca14a92",
   "metadata": {},
   "outputs": [
    {
     "data": {
      "text/plain": [
       "{'Start>Start': 0,\n",
       " 'Start>Facebook ads': 3317,\n",
       " 'Start>Instagram influencers': 3378,\n",
       " 'Start>Youtube ads': 3305,\n",
       " 'Start>Conversion': 0,\n",
       " 'Start>Null': 0,\n",
       " 'Facebook ads>Start': 0,\n",
       " 'Facebook ads>Facebook ads': 0,\n",
       " 'Facebook ads>Instagram influencers': 5355,\n",
       " 'Facebook ads>Youtube ads': 4811,\n",
       " 'Facebook ads>Conversion': 138,\n",
       " 'Facebook ads>Null': 2455,\n",
       " 'Instagram influencers>Start': 0,\n",
       " 'Instagram influencers>Facebook ads': 4824,\n",
       " 'Instagram influencers>Instagram influencers': 0,\n",
       " 'Instagram influencers>Youtube ads': 4871,\n",
       " 'Instagram influencers>Conversion': 541,\n",
       " 'Instagram influencers>Null': 3705,\n",
       " 'Youtube ads>Start': 0,\n",
       " 'Youtube ads>Facebook ads': 4618,\n",
       " 'Youtube ads>Instagram influencers': 5208,\n",
       " 'Youtube ads>Youtube ads': 0,\n",
       " 'Youtube ads>Conversion': 145,\n",
       " 'Youtube ads>Null': 3016,\n",
       " 'Conversion>Start': 0,\n",
       " 'Conversion>Facebook ads': 0,\n",
       " 'Conversion>Instagram influencers': 0,\n",
       " 'Conversion>Youtube ads': 0,\n",
       " 'Conversion>Conversion': 0,\n",
       " 'Conversion>Null': 0,\n",
       " 'Null>Start': 0,\n",
       " 'Null>Facebook ads': 0,\n",
       " 'Null>Instagram influencers': 0,\n",
       " 'Null>Youtube ads': 0,\n",
       " 'Null>Conversion': 0,\n",
       " 'Null>Null': 0}"
      ]
     },
     "execution_count": 5,
     "metadata": {},
     "output_type": "execute_result"
    }
   ],
   "source": [
    "def transition_states(list_of_paths):\n",
    "    list_of_unique_channels = set(x for element in list_of_paths for x in element)\n",
    "    transition_states = {x + '>' + y: 0 for x in list_of_unique_channels for y in list_of_unique_channels}\n",
    "\n",
    "    for possible_state in list_of_unique_channels:\n",
    "        if possible_state not in ['Conversion', 'Null']:\n",
    "            for user_path in list_of_paths:\n",
    "                if possible_state in user_path:\n",
    "                    indices = [i for i, s in enumerate(user_path) if possible_state in s]\n",
    "                    for col in indices:\n",
    "                        transition_states[user_path[col] + '>' + user_path[col + 1]] += 1\n",
    "\n",
    "    return transition_states\n",
    "\n",
    "\n",
    "trans_states = transition_states(list_of_paths)\n",
    "\n",
    "trans_states = transition_states(list_of_paths)\n",
    "trans_states"
   ]
  },
  {
   "cell_type": "code",
   "execution_count": 6,
   "id": "f0247c91",
   "metadata": {},
   "outputs": [
    {
     "data": {
      "text/plain": [
       "defaultdict(dict,\n",
       "            {'Start>Facebook ads': 0.3317,\n",
       "             'Start>Instagram influencers': 0.3378,\n",
       "             'Start>Youtube ads': 0.3305,\n",
       "             'Facebook ads>Instagram influencers': 0.4197037385375029,\n",
       "             'Facebook ads>Youtube ads': 0.37706716827337566,\n",
       "             'Facebook ads>Conversion': 0.010815894662591112,\n",
       "             'Facebook ads>Null': 0.1924131985265303,\n",
       "             'Instagram influencers>Facebook ads': 0.3460296965784377,\n",
       "             'Instagram influencers>Youtube ads': 0.34940104727064053,\n",
       "             'Instagram influencers>Conversion': 0.03880639839322861,\n",
       "             'Instagram influencers>Null': 0.26576285775769315,\n",
       "             'Youtube ads>Facebook ads': 0.3555863555863556,\n",
       "             'Youtube ads>Instagram influencers': 0.401016401016401,\n",
       "             'Youtube ads>Conversion': 0.011165011165011165,\n",
       "             'Youtube ads>Null': 0.23223223223223224})"
      ]
     },
     "execution_count": 6,
     "metadata": {},
     "output_type": "execute_result"
    }
   ],
   "source": [
    "def transition_prob(trans_dict):\n",
    "    list_of_unique_channels = set(x for element in list_of_paths for x in element)\n",
    "    trans_prob = defaultdict(dict)\n",
    "    for state in list_of_unique_channels:\n",
    "        if state not in ['Conversion', 'Null']:\n",
    "            counter = 0\n",
    "            index = [i for i, s in enumerate(trans_dict) if state + '>' in s]\n",
    "            for col in index:\n",
    "                if trans_dict[list(trans_dict)[col]] > 0:\n",
    "                    counter += trans_dict[list(trans_dict)[col]]\n",
    "            for col in index:\n",
    "                if trans_dict[list(trans_dict)[col]] > 0:\n",
    "                    state_prob = float((trans_dict[list(trans_dict)[col]])) / float(counter)\n",
    "                    trans_prob[list(trans_dict)[col]] = state_prob\n",
    "\n",
    "    return trans_prob\n",
    "\n",
    "\n",
    "trans_prob = transition_prob(trans_states)\n",
    "trans_prob"
   ]
  },
  {
   "cell_type": "code",
   "execution_count": 7,
   "id": "203a9e88",
   "metadata": {},
   "outputs": [
    {
     "data": {
      "text/html": [
       "<div>\n",
       "<style scoped>\n",
       "    .dataframe tbody tr th:only-of-type {\n",
       "        vertical-align: middle;\n",
       "    }\n",
       "\n",
       "    .dataframe tbody tr th {\n",
       "        vertical-align: top;\n",
       "    }\n",
       "\n",
       "    .dataframe thead th {\n",
       "        text-align: right;\n",
       "    }\n",
       "</style>\n",
       "<table border=\"1\" class=\"dataframe\">\n",
       "  <thead>\n",
       "    <tr style=\"text-align: right;\">\n",
       "      <th></th>\n",
       "      <th>Start</th>\n",
       "      <th>Facebook ads</th>\n",
       "      <th>Instagram influencers</th>\n",
       "      <th>Youtube ads</th>\n",
       "      <th>Conversion</th>\n",
       "      <th>Null</th>\n",
       "    </tr>\n",
       "  </thead>\n",
       "  <tbody>\n",
       "    <tr>\n",
       "      <th>Start</th>\n",
       "      <td>0.0</td>\n",
       "      <td>0.331700</td>\n",
       "      <td>0.337800</td>\n",
       "      <td>0.330500</td>\n",
       "      <td>0.000000</td>\n",
       "      <td>0.000000</td>\n",
       "    </tr>\n",
       "    <tr>\n",
       "      <th>Facebook ads</th>\n",
       "      <td>0.0</td>\n",
       "      <td>0.000000</td>\n",
       "      <td>0.419704</td>\n",
       "      <td>0.377067</td>\n",
       "      <td>0.010816</td>\n",
       "      <td>0.192413</td>\n",
       "    </tr>\n",
       "    <tr>\n",
       "      <th>Instagram influencers</th>\n",
       "      <td>0.0</td>\n",
       "      <td>0.346030</td>\n",
       "      <td>0.000000</td>\n",
       "      <td>0.349401</td>\n",
       "      <td>0.038806</td>\n",
       "      <td>0.265763</td>\n",
       "    </tr>\n",
       "    <tr>\n",
       "      <th>Youtube ads</th>\n",
       "      <td>0.0</td>\n",
       "      <td>0.355586</td>\n",
       "      <td>0.401016</td>\n",
       "      <td>0.000000</td>\n",
       "      <td>0.011165</td>\n",
       "      <td>0.232232</td>\n",
       "    </tr>\n",
       "    <tr>\n",
       "      <th>Conversion</th>\n",
       "      <td>0.0</td>\n",
       "      <td>0.000000</td>\n",
       "      <td>0.000000</td>\n",
       "      <td>0.000000</td>\n",
       "      <td>1.000000</td>\n",
       "      <td>0.000000</td>\n",
       "    </tr>\n",
       "    <tr>\n",
       "      <th>Null</th>\n",
       "      <td>0.0</td>\n",
       "      <td>0.000000</td>\n",
       "      <td>0.000000</td>\n",
       "      <td>0.000000</td>\n",
       "      <td>0.000000</td>\n",
       "      <td>1.000000</td>\n",
       "    </tr>\n",
       "  </tbody>\n",
       "</table>\n",
       "</div>"
      ],
      "text/plain": [
       "                       Start  Facebook ads  Instagram influencers  \\\n",
       "Start                    0.0      0.331700               0.337800   \n",
       "Facebook ads             0.0      0.000000               0.419704   \n",
       "Instagram influencers    0.0      0.346030               0.000000   \n",
       "Youtube ads              0.0      0.355586               0.401016   \n",
       "Conversion               0.0      0.000000               0.000000   \n",
       "Null                     0.0      0.000000               0.000000   \n",
       "\n",
       "                       Youtube ads  Conversion      Null  \n",
       "Start                     0.330500    0.000000  0.000000  \n",
       "Facebook ads              0.377067    0.010816  0.192413  \n",
       "Instagram influencers     0.349401    0.038806  0.265763  \n",
       "Youtube ads               0.000000    0.011165  0.232232  \n",
       "Conversion                0.000000    1.000000  0.000000  \n",
       "Null                      0.000000    0.000000  1.000000  "
      ]
     },
     "execution_count": 7,
     "metadata": {},
     "output_type": "execute_result"
    }
   ],
   "source": [
    "def transition_matrix(list_of_paths, transition_probabilities):\n",
    "    trans_matrix = pd.DataFrame()\n",
    "    list_of_unique_channels = set(x for element in list_of_paths for x in element)\n",
    "\n",
    "    for channel in list_of_unique_channels:\n",
    "        trans_matrix[channel] = 0.00\n",
    "        trans_matrix.loc[channel] = 0.00\n",
    "        trans_matrix.loc[channel][channel] = 1.0 if channel in ['Conversion', 'Null'] else 0.0\n",
    "\n",
    "    for key, value in transition_probabilities.items():\n",
    "        origin, destination = key.split('>')\n",
    "        trans_matrix.at[origin, destination] = value\n",
    "\n",
    "    return trans_matrix\n",
    "\n",
    "\n",
    "trans_matrix = transition_matrix(list_of_paths, trans_prob)\n",
    "trans_matrix"
   ]
  },
  {
   "cell_type": "code",
   "execution_count": 8,
   "id": "85d8e96f",
   "metadata": {},
   "outputs": [],
   "source": [
    "def removal_effects(df, conversion_rate):\n",
    "    removal_effects_dict = {}\n",
    "    channels = [channel for channel in df.columns if channel not in ['Start',\n",
    "                                                                     'Null',\n",
    "                                                                     'Conversion']]\n",
    "    for channel in channels:\n",
    "        removal_df = df.drop(channel, axis=1).drop(channel, axis=0)\n",
    "        for column in removal_df.columns:\n",
    "            row_sum = np.sum(list(removal_df.loc[column]))\n",
    "            null_pct = float(1) - row_sum\n",
    "            if null_pct != 0:\n",
    "                removal_df.loc[column]['Null'] = null_pct\n",
    "            removal_df.loc['Null']['Null'] = 1.0\n",
    "\n",
    "        removal_to_conv = removal_df[\n",
    "            ['Null', 'Conversion']].drop(['Null', 'Conversion'], axis=0)\n",
    "        removal_to_non_conv = removal_df.drop(\n",
    "            ['Null', 'Conversion'], axis=1).drop(['Null', 'Conversion'], axis=0)\n",
    "\n",
    "        removal_inv_diff = np.linalg.inv(\n",
    "            np.identity(\n",
    "                len(removal_to_non_conv.columns)) - np.asarray(removal_to_non_conv))\n",
    "        removal_dot_prod = np.dot(removal_inv_diff, np.asarray(removal_to_conv))\n",
    "        removal_cvr = pd.DataFrame(removal_dot_prod,\n",
    "                                   index=removal_to_conv.index)[[1]].loc['Start'].values[0]\n",
    "        removal_effect = 1 - removal_cvr / conversion_rate\n",
    "        removal_effects_dict[channel] = removal_effect\n",
    "\n",
    "    return removal_effects_dict\n",
    "\n",
    "removal_effects_dict = removal_effects(trans_matrix, base_conversion_rate)\n"
   ]
  },
  {
   "cell_type": "code",
   "execution_count": 9,
   "id": "1c72664a",
   "metadata": {},
   "outputs": [],
   "source": [
    "def markov_chain_allocations(removal_effects, total_conversions):\n",
    "    re_sum = np.sum(list(removal_effects.values()))\n",
    "\n",
    "    return {k: (v / re_sum) * total_conversions for k, v in removal_effects.items()}\n",
    "\n",
    "\n",
    "attributions = markov_chain_allocations(removal_effects_dict, total_conversions)"
   ]
  },
  {
   "cell_type": "code",
   "execution_count": 10,
   "id": "4c970cbc",
   "metadata": {},
   "outputs": [
    {
     "data": {
      "text/plain": [
       "{'Facebook ads': 251.51855382370894,\n",
       " 'Instagram influencers': 322.24748804832024,\n",
       " 'Youtube ads': 250.2339581279709}"
      ]
     },
     "execution_count": 10,
     "metadata": {},
     "output_type": "execute_result"
    }
   ],
   "source": [
    "attributions"
   ]
  },
  {
   "cell_type": "code",
   "execution_count": null,
   "id": "a43a5244",
   "metadata": {},
   "outputs": [],
   "source": []
  }
 ],
 "metadata": {
  "kernelspec": {
   "display_name": "Python 3 (ipykernel)",
   "language": "python",
   "name": "python3"
  },
  "language_info": {
   "codemirror_mode": {
    "name": "ipython",
    "version": 3
   },
   "file_extension": ".py",
   "mimetype": "text/x-python",
   "name": "python",
   "nbconvert_exporter": "python",
   "pygments_lexer": "ipython3",
   "version": "3.9.13"
  }
 },
 "nbformat": 4,
 "nbformat_minor": 5
}
